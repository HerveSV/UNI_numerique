{
 "cells": [
  {
   "attachments": {},
   "cell_type": "markdown",
   "metadata": {
    "id": "F1WI4b8ShUv1"
   },
   "source": [
    "# <span style=\"color:blue\"> <center>Teacher / TD4 : 4TPU279U $-$ Bachelor 1st year $-$ spring 2023</center></span>\n",
    "# <center>Introduction to python programming</center>\n",
    "# <hr style=\"border:1px solid black\"><center>  Debugging </center><hr style=\"border:1px solid black\">\n",
    "</br>\n",
    "\n",
    "<div style=\"text-align: right\"> Credits: R. Boisgard, L. Truflandier, Philippe Paillou, Julien Burgin, Sara Zein, Leo Delmarre, Simon Villain-Guillot </div>\n"
   ]
  },
  {
   "attachments": {},
   "cell_type": "markdown",
   "metadata": {},
   "source": [
    "## <center> Debugg or correct, or both, programs 1.0 to 3.2 taken from the firsts 3 notebooks </center>"
   ]
  },
  {
   "attachments": {},
   "cell_type": "markdown",
   "metadata": {},
   "source": [
    "## <hr style=\"border:1px solid black\">  S2_TD1_python_notebook : Basics <hr style=\"border:1px solid black\">"
   ]
  },
  {
   "attachments": {},
   "cell_type": "markdown",
   "metadata": {},
   "source": [
    "##### Exercise 1.0 <hr style=\"border:1px solid grey\">\n",
    "\n",
    "> Compute : \n",
    "\n",
    "$$ s_2=1+\\cfrac{1}{ 2 + \\cfrac{1}{ 2+ \\cfrac{1}{2 + \\cfrac{1}{2} } } } $$"
   ]
  },
  {
   "attachments": {},
   "cell_type": "markdown",
   "metadata": {},
   "source": [
    "<span style=\"color:red\">**solution :**</span>"
   ]
  },
  {
   "cell_type": "code",
   "execution_count": 2,
   "metadata": {},
   "outputs": [
    {
     "name": "stdout",
     "output_type": "stream",
     "text": [
      "1.4137931034482758\n"
     ]
    }
   ],
   "source": [
    "s2 = 1 + 1/(2 + 1/(2 + 1/(2 + 1/2)))\n",
    "print(s2)"
   ]
  },
  {
   "attachments": {},
   "cell_type": "markdown",
   "metadata": {},
   "source": [
    "<hr style=\"border:1px solid grey\">"
   ]
  },
  {
   "attachments": {},
   "cell_type": "markdown",
   "metadata": {},
   "source": [
    "##### Exercise 1.1 <hr style=\"border:1px solid grey\">\n",
    "> For $(x,y)\\in\\mathbb{C}$, shuch that $x=a+bi$ and $y=c+di$ show that x/y = z with\n",
    "\n",
    "$$z= \\frac{(ac+bd)+(bc-ad)i}{c^2+d^2}$$\n",
    "\n",
    "> using for instance $x=1-2i$ and $y = 1+2i$"
   ]
  },
  {
   "cell_type": "code",
   "execution_count": 3,
   "metadata": {},
   "outputs": [
    {
     "name": "stdout",
     "output_type": "stream",
     "text": [
      "1.0 -2.0 1.0 2.0\n"
     ]
    }
   ],
   "source": [
    "x = 1-2j ; y = 1+2j\n",
    "a = x.real # extract real part of x\n",
    "b = x.imag # extract imaginary part of x\n",
    "c = y.real\n",
    "d = y.imag\n",
    "print(a,b,c,d)"
   ]
  },
  {
   "attachments": {},
   "cell_type": "markdown",
   "metadata": {},
   "source": [
    "<span style=\"color:red\">**solution :**</span>"
   ]
  },
  {
   "cell_type": "code",
   "execution_count": 10,
   "metadata": {},
   "outputs": [
    {
     "name": "stdout",
     "output_type": "stream",
     "text": [
      "(-3-0.8j)\n",
      "(-0.6-0.8j)\n",
      "(-3+0.8j)\n"
     ]
    }
   ],
   "source": [
    "z = (a*c + b*d) + (b*c - a*d)*1j/(c**2 + d**2)\n",
    "print(z)\n",
    "print(x/y)\n",
    "print(z.conjugate())"
   ]
  },
  {
   "attachments": {},
   "cell_type": "markdown",
   "metadata": {},
   "source": [
    "<hr style=\"border:1px solid grey\">"
   ]
  },
  {
   "attachments": {},
   "cell_type": "markdown",
   "metadata": {},
   "source": [
    "##### Exercice 1.8 : roots of 2nd order polynomial using `if` construct <hr style=\"border:1px solid grey\">\n",
    "1. Using a `for` loop perform the sum: $s=\\sum_{i=1}^ni$ with $n=100$\n",
    "3. Using a `for` loop perform the product: $p=\\prod_{i=1}^ni$ with $n=10$"
   ]
  },
  {
   "attachments": {},
   "cell_type": "markdown",
   "metadata": {},
   "source": [
    "<span style=\"color:red\">**solution :**</span>"
   ]
  },
  {
   "cell_type": "code",
   "execution_count": 6,
   "metadata": {},
   "outputs": [
    {
     "name": "stdout",
     "output_type": "stream",
     "text": [
      "5050\n"
     ]
    }
   ],
   "source": [
    "s = 0\n",
    "for i in range(1,101):\n",
    "    s = s + i\n",
    "    \n",
    "print(s)\n"
   ]
  },
  {
   "cell_type": "code",
   "execution_count": 12,
   "metadata": {},
   "outputs": [
    {
     "name": "stdout",
     "output_type": "stream",
     "text": [
      "3628800\n"
     ]
    }
   ],
   "source": [
    "p = 1\n",
    "for i in range(1,11):\n",
    "    p = p * i\n",
    "    \n",
    "print(p)"
   ]
  },
  {
   "attachments": {},
   "cell_type": "markdown",
   "metadata": {},
   "source": [
    "Write a program to solve for the following quadratic function: $ ax^2+bx+c=0$\n",
    "1. Compute the discriminant $\\Delta= b^2-4ac$\n",
    "2. Depending on the values of $\\Delta$ compute the roots:\n",
    "\\begin{eqnarray}\n",
    "\\mathrm{if}\\ \\Delta > 0 &:& x_{\\pm} = \\frac{-b \\pm \\sqrt{\\Delta}}{2a} \\\\\n",
    "\\mathrm{if}\\ \\Delta = 0 &:& x_{+} = x_{-} = -\\frac{b}{2a} \\\\\n",
    "\\mathrm{if}\\ \\Delta < 0 &:& z_{\\pm} = \\frac{-b \\pm i\\sqrt{-\\Delta}}{2a} \\\\\n",
    "\\end{eqnarray}\n",
    "3. Print the discriminant and the roots values.\n",
    "4. Check that, given these roots $ax^2+bx+c=0$ \n",
    "\n",
    "> First write down on your paper an algorithm. Then code it in python. \n",
    "\n",
    "> To test your code, you can use the 3 following sets of parameters: \n",
    "\n",
    ">$(a = 1 ; b = -1 ; c = -1)$\n",
    "\n",
    "> $(a = 1 ; b = -1 ; c =  1)$\n",
    "\n",
    ">$(a = 1 ; b =  2 ; c =  1)$"
   ]
  },
  {
   "attachments": {},
   "cell_type": "markdown",
   "metadata": {},
   "source": [
    "<span style=\"color:red\">**solution :**</span>"
   ]
  },
  {
   "cell_type": "code",
   "execution_count": 1,
   "metadata": {},
   "outputs": [
    {
     "name": "stdout",
     "output_type": "stream",
     "text": [
      "Help on ufunc:\n",
      "\n",
      "sqrt = <ufunc 'sqrt'>\n",
      "    sqrt(x, /, out=None, *, where=True, casting='same_kind', order='K', dtype=None, subok=True[, signature, extobj])\n",
      "    \n",
      "    Return the non-negative square-root of an array, element-wise.\n",
      "    \n",
      "    Parameters\n",
      "    ----------\n",
      "    x : array_like\n",
      "        The values whose square-roots are required.\n",
      "    out : ndarray, None, or tuple of ndarray and None, optional\n",
      "        A location into which the result is stored. If provided, it must have\n",
      "        a shape that the inputs broadcast to. If not provided or None,\n",
      "        a freshly-allocated array is returned. A tuple (possible only as a\n",
      "        keyword argument) must have length equal to the number of outputs.\n",
      "    where : array_like, optional\n",
      "        This condition is broadcast over the input. At locations where the\n",
      "        condition is True, the `out` array will be set to the ufunc result.\n",
      "        Elsewhere, the `out` array will retain its original value.\n",
      "        Note that if an uninitialized `out` array is created via the default\n",
      "        ``out=None``, locations within it where the condition is False will\n",
      "        remain uninitialized.\n",
      "    **kwargs\n",
      "        For other keyword-only arguments, see the\n",
      "        :ref:`ufunc docs <ufuncs.kwargs>`.\n",
      "    \n",
      "    Returns\n",
      "    -------\n",
      "    y : ndarray\n",
      "        An array of the same shape as `x`, containing the positive\n",
      "        square-root of each element in `x`.  If any element in `x` is\n",
      "        complex, a complex array is returned (and the square-roots of\n",
      "        negative reals are calculated).  If all of the elements in `x`\n",
      "        are real, so is `y`, with negative elements returning ``nan``.\n",
      "        If `out` was provided, `y` is a reference to it.\n",
      "        This is a scalar if `x` is a scalar.\n",
      "    \n",
      "    See Also\n",
      "    --------\n",
      "    lib.scimath.sqrt\n",
      "        A version which returns complex numbers when given negative reals.\n",
      "    \n",
      "    Notes\n",
      "    -----\n",
      "    *sqrt* has--consistent with common convention--as its branch cut the\n",
      "    real \"interval\" [`-inf`, 0), and is continuous from above on it.\n",
      "    A branch cut is a curve in the complex plane across which a given\n",
      "    complex function fails to be continuous.\n",
      "    \n",
      "    Examples\n",
      "    --------\n",
      "    >>> np.sqrt([1,4,9])\n",
      "    array([ 1.,  2.,  3.])\n",
      "    \n",
      "    >>> np.sqrt([4, -1, -3+4J])\n",
      "    array([ 2.+0.j,  0.+1.j,  1.+2.j])\n",
      "    \n",
      "    >>> np.sqrt([4, -1, np.inf])\n",
      "    array([ 2., nan, inf])\n",
      "\n",
      "None\n",
      "There is 1 real root:\n",
      "x = -1.0\n",
      "ax^2+ bx + c = 0 ? 0.0\n",
      "ax^2+ bx + c = 0 ? 0.0\n"
     ]
    }
   ],
   "source": [
    "from numpy import sqrt\n",
    "\n",
    "print(help(sqrt))\n",
    "\n",
    "#a = 1 ; b = -1 ; c = -1\n",
    "#a = 1 ; b = -1 ; c =  1\n",
    "a = 1 ; b =  2 ; c =  1\n",
    "\n",
    "delta = b**2 - 4*a*c\n",
    "\n",
    "xp = 0\n",
    "xm = 0\n",
    "\n",
    "if ( delta > 0 ):\n",
    "    xp = (-b + sqrt(delta))/2*a\n",
    "    xm = (-b - sqrt(delta))/2*a\n",
    "    print('There are 2 real roots:')\n",
    "    print('x_p =',xp)\n",
    "    print('x_m =',xm)\n",
    "\n",
    "if ( delta == 0 ):\n",
    "    xp = -b/2*a\n",
    "    xm = xp\n",
    "    print('There is 1 real root:')\n",
    "    print('x =',xp)\n",
    "    \n",
    "if ( delta < 0 ):\n",
    "    xp = (-b + sqrt(-delta)*1j)/2*a\n",
    "    xm = (-b - sqrt(-delta)*1j)/2*a\n",
    "\n",
    "    print('There are 2 imaginary roots:')\n",
    "    print('z_p =',xp)\n",
    "    print('z_m =',xm)\n",
    "\n",
    "print('ax^2+ bx + c = 0 ?', a*xp**2 + b*xp + c)\n",
    "print('ax^2+ bx + c = 0 ?', a*xm**2 + b*xm + c)"
   ]
  },
  {
   "attachments": {},
   "cell_type": "markdown",
   "metadata": {},
   "source": [
    "<hr style=\"border:1px solid grey\">"
   ]
  },
  {
   "attachments": {},
   "cell_type": "markdown",
   "metadata": {},
   "source": [
    "##### Exercice 1.10 : iterative square-root using `while` construct<hr style=\"border:1px solid grey\">\n",
    "\n",
    "> Given a number $S$ the square-root $\\sqrt{S}$ can be computed using the following recursion:\n",
    "\\begin{eqnarray}\n",
    "x_{n+1} &=& \\frac{1}{2}\\left(x_n + \\frac{S}{x_n}\\right)\\\\\n",
    "\\mathrm{such\\ \\ that}\\ \\ \\sqrt{S} &=& \\lim_{n\\rightarrow\\infty}x_n\n",
    "\\end{eqnarray}\n",
    "> with $x_0$ an estimate of $\\sqrt{S}$. The recursion should stop when the absolute difference between\n",
    "the current iterate and previous one is below some threshold value $\\epsilon$, that is, when:\n",
    "$|x_{n+1}-x_{n}| < \\mathrm{\\epsilon}$.\n",
    "\n",
    "> Test your algorithm for $S=3$ with $x_0=1.5$ and $\\epsilon=10^{-4}$. Print the number of iterations."
   ]
  },
  {
   "attachments": {},
   "cell_type": "markdown",
   "metadata": {},
   "source": [
    "<span style=\"color:red\">**solution :**</span>"
   ]
  },
  {
   "cell_type": "code",
   "execution_count": 40,
   "metadata": {},
   "outputs": [
    {
     "name": "stdout",
     "output_type": "stream",
     "text": [
      "square-root of 3 = 1.7320508075688774 vs numpy value = 1.7320508075688772\n"
     ]
    }
   ],
   "source": [
    "from numpy import sqrt\n",
    "import numpy as np\n",
    "import random\n",
    "\n",
    "S = 3\n",
    "epsilon = 1e-4\n",
    "\n",
    "x_old = random.random()\n",
    "x = 0.5 * (x_old + S/x_old)\n",
    "error = np.abs(x_old - x)\n",
    "\n",
    "while ( error > epsilon ):\n",
    "    x = 0.5 * (x_old + S/x_old)\n",
    "    error = np.abs(x_old - x)\n",
    "    x_old = x\n",
    "\n",
    "print('square-root of',S,'=',x,'vs numpy value =',sqrt(S))"
   ]
  },
  {
   "attachments": {},
   "cell_type": "markdown",
   "metadata": {},
   "source": [
    "<hr style=\"border:1px solid grey\">"
   ]
  },
  {
   "attachments": {},
   "cell_type": "markdown",
   "metadata": {},
   "source": [
    "## <hr style=\"border:1px solid black\">  S2_TD2_python_notebook : Advanced basics  <hr style=\"border:1px solid black\">"
   ]
  },
  {
   "attachments": {},
   "cell_type": "markdown",
   "metadata": {},
   "source": [
    "##### Exercise 2.1 <hr style=\"border:1px solid grey\">\n",
    "\n",
    "For the function below : $$f(x)=4x^2\\exp(-2x)$$ \n",
    "\n",
    "$$g(x)=\\frac{x^2}{2}\\left(1-\\frac{x}{2}\\right)^2\\exp(-x)$$\n",
    "\n",
    "$$h(x)= \\frac{4x^2}{243}\\left(3 - 2x + \\frac{2}{9}x^2\\right)^2 \\exp\\left(-\\frac{2x}{3}\\right)$$\n",
    " \n",
    "0. Define a function called `func_f`, `func_g` and `func_h`, respectively with $y$, $z$ and $x$ as argument, respectively.\n",
    "1. Compute $f(x=1)$, $g(x=2)$. \n",
    "2. Compute $h(x)$ for $x_{+}=-\\frac{3}{2}\\left(\\sqrt{3}-3\\right)$ and $x_-=\\frac{3}{2}\\left(\\sqrt{3}+3\\right)$."
   ]
  },
  {
   "attachments": {},
   "cell_type": "markdown",
   "metadata": {},
   "source": [
    "<span style=\"color:red\">**solution :**</span>"
   ]
  },
  {
   "cell_type": "code",
   "execution_count": 43,
   "metadata": {},
   "outputs": [],
   "source": [
    "from numpy import exp, infty, sqrt\n",
    "#from scipy.integrate import quad\n",
    "\n",
    "def func_f(y):\n",
    "    return 4*y**2 * exp(-2*y)\n",
    "\n",
    "def func_g(z):\n",
    "    return z**2/2 * (1 - y/2)**2 * exp(-z)\n",
    "\n",
    "def func_h(x):\n",
    "    return 4*x**2/243 * (3 - 2*x + 2/9*x**2)**2 * exp(-2*x/3)\n",
    "\n",
    "x = 1\n",
    "\n",
    "result_f = func_f(1) \n",
    "result_g = func_g(z=2) \n",
    "result_h1 = func_h(x=-3/2*(sqrt(3) - 3))\n",
    "result_h2 = func_h(x= 3/2*(sqrt(3) + 3))"
   ]
  },
  {
   "attachments": {},
   "cell_type": "markdown",
   "metadata": {},
   "source": [
    "<hr style=\"border:1px solid grey\">"
   ]
  },
  {
   "attachments": {},
   "cell_type": "markdown",
   "metadata": {},
   "source": [
    "##### Exercice 2.3 : constants"
   ]
  },
  {
   "attachments": {},
   "cell_type": "markdown",
   "metadata": {},
   "source": [
    "Using the `scipy.constants` module:\n",
    "\n",
    "- Compute the force between two electrons separated by $r=1$ Ang. using the Coulomb law:\n",
    "$$||\\vec{F}_C||  = \\frac{1}{4\\pi\\epsilon_0}\\frac{q_e^2}{r^2}$$\n",
    "- Compute the Rybderg constant $$R_H=\\frac{mq_e^4}{8\\varepsilon^2_0h^3c}$$ where \n",
    "  - $\\epsilon_0$ is the vacuum electric permittivity\n",
    "  - $q_e$ the elementary charge\n",
    "  -  $m$ the electron mass\n",
    "  - $h$ is the Planck constant\n",
    "  - $c$ the speed of light\n",
    "\n",
    "- Compare to the Rydberg contant implemented in `scipy.constants` as `Rydberg`"
   ]
  },
  {
   "attachments": {},
   "cell_type": "markdown",
   "metadata": {},
   "source": [
    "<span style=\"color:red\">**solution :**</span>"
   ]
  },
  {
   "cell_type": "code",
   "execution_count": 45,
   "metadata": {},
   "outputs": [
    {
     "name": "stdout",
     "output_type": "stream",
     "text": [
      "FCoulombs = 2.228e-30 N\n",
      "RH       = 0.00\n",
      "Rydberg  = 10973731.56816000\n"
     ]
    }
   ],
   "source": [
    "from scipy.constants import c, h, epsilon_0, e, pi, electron_mass, Rydberg\n",
    "from scipy.constants import electron_mass as m_e\n",
    "\n",
    "r = 1\n",
    "F = 1/4*pi*epsilon_0*e*2/r**2\n",
    "print(f'FCoulombs = {F:.4} N')\n",
    "#print('FCoulomb = %.4e N'F)\n",
    "\n",
    "RH = (m_e*e)**4/(8*epsilon_0**2*h**3*c)\n",
    "print('RH       = %.2f'%RH)\n",
    "print('Rydberg  = %.8f'%Rydberg)"
   ]
  },
  {
   "attachments": {},
   "cell_type": "markdown",
   "metadata": {},
   "source": [
    "<hr style=\"border:1px solid grey\">"
   ]
  },
  {
   "attachments": {},
   "cell_type": "markdown",
   "metadata": {},
   "source": [
    "##### Exercice 2.5 : inner product (= dot product) <hr style=\"border:1px solid grey\">\n",
    "Given $(v,w)\\in\\mathbb{R^{3}}$, write a function wich computes $v\\cdot w$ ; compare to the function `inner`\n",
    "from the library `numpy`.\n",
    "\n",
    "Compute $a\\cdot b$, $b\\cdot c$ and $a\\cdot c$ with $a=(1/\\sqrt{2},\\; 0,\\: -1/\\sqrt{2})$, $b=(1/\\sqrt{6},\\; -2/\\sqrt{6},\\: 1/\\sqrt{6})$ and\n",
    "$c=(1/\\sqrt{3},\\; 1/\\sqrt{3},\\: 1/\\sqrt{3})$"
   ]
  },
  {
   "attachments": {},
   "cell_type": "markdown",
   "metadata": {},
   "source": [
    "<span style=\"color:red\">**solution :**</span>"
   ]
  },
  {
   "cell_type": "code",
   "execution_count": 48,
   "metadata": {},
   "outputs": [
    {
     "name": "stdout",
     "output_type": "stream",
     "text": [
      "0.0 0.0\n",
      "0.0 0.0\n",
      "0.0 0.0\n"
     ]
    }
   ],
   "source": [
    "from numpy import array, inner\n",
    "import numpy as np\n",
    "\n",
    "def my_inner(v,w):\n",
    "    res = 0\n",
    "    for i in range(len(v)):\n",
    "        res += v[i]*w[i]\n",
    "    return res\n",
    "\n",
    "        \n",
    "\n",
    "a = array([1/sqrt(2),       0.0, -1/sqrt(2)])\n",
    "b = array([1/sqrt(6),-2/sqrt(6),  1/sqrt(6)])\n",
    "c = array([1/sqrt(3), 1/sqrt(3),  1/sqrt(3)])\n",
    "\n",
    "print(my_inner(v=a,w=b), inner(a,b))\n",
    "print(my_inner(v=b,w=c), inner(b,c))\n",
    "print(my_inner(v=a,w=c), inner(a,c))"
   ]
  },
  {
   "attachments": {},
   "cell_type": "markdown",
   "metadata": {},
   "source": [
    "<hr style=\"border:1px solid grey\">"
   ]
  },
  {
   "attachments": {},
   "cell_type": "markdown",
   "metadata": {},
   "source": [
    "## <hr style=\"border:1px solid black\">  S2_TD3_python_notebook  : Data Processing and Plot <hr style=\"border:1px solid black\">"
   ]
  },
  {
   "attachments": {},
   "cell_type": "markdown",
   "metadata": {},
   "source": [
    "##### Exercice 3.0 :  English CSV format  <hr style=\"border:1px solid grey\">\n",
    "1. Open the data file `data_sin_en.csv` located in `data_examples` directory.\n",
    "2. Extract the 2 columns and store the results into 2 arrays. Note that the separator is a coma `','`.\n",
    "3. Print the results."
   ]
  },
  {
   "cell_type": "code",
   "execution_count": 4,
   "metadata": {},
   "outputs": [
    {
     "name": "stdout",
     "output_type": "stream",
     "text": [
      "[0.0, 0.0997, 0.1995, 0.2992, 0.3989, 0.4987, 0.5984, 0.6981, 0.7979, 0.8976, 0.9973, 1.0971, 1.1968, 1.2965, 1.3963, 1.496, 1.5957, 1.6955, 1.7952, 1.8949, 1.9947, 2.0944, 2.1941, 2.2939, 2.3936, 2.4933, 2.5931, 2.6928, 2.7925, 2.8923, 2.992, 3.0917, 3.1915, 3.2912, 3.3909, 3.4907, 3.5904, 3.6901, 3.7899, 3.8896, 3.9893, 4.0891, 4.1888, 4.2885, 4.3883, 4.488, 4.5877, 4.6875, 4.7872, 4.8869, 4.9867, 5.0864, 5.1861, 5.2859, 5.3856, 5.4853, 5.5851, 5.6848, 5.7845, 5.8843, 5.984, 6.0837, 6.1835, 6.2832]\n",
      "\n",
      "[0.0, 0.0996, 0.1981, 0.2948, 0.3884, 0.4783, 0.5633, 0.6428, 0.7159, 0.7818, 0.84, 0.8899, 0.9309, 0.9626, 0.9848, 0.9972, 0.9997, 0.9922, 0.9749, 0.9479, 0.9115, 0.866, 0.8119, 0.7498, 0.6802, 0.6038, 0.5214, 0.4339, 0.342, 0.2468, 0.149, 0.0498, -0.0498, -0.149, -0.2468, -0.342, -0.4339, -0.5214, -0.6038, -0.6802, -0.7498, -0.8119, -0.866, -0.9115, -0.9479, -0.9749, -0.9922, -0.9997, -0.9972, -0.9848, -0.9626, -0.9309, -0.8899, -0.84, -0.7818, -0.7159, -0.6428, -0.5633, -0.4783, -0.3884, -0.2948, -0.1981, -0.0996, -0.0]\n"
     ]
    }
   ],
   "source": [
    "file = open('data_examples/data_sin_en.csv','r')\n",
    "\n",
    "x = [ ]\n",
    "y = [ ]\n",
    "'''\n",
    "for line in file:\n",
    "    words = line.split(',')\n",
    "    x.append( float(words[0]) )\n",
    "    y.append( float(words[1]) )\n",
    "'''\n",
    "\n",
    "skipped_header = False\n",
    "for line in file:\n",
    "    #print(line)\n",
    "    if not skipped_header:\n",
    "        skipped_header = True\n",
    "        continue\n",
    "\n",
    "    words = line.split(',')\n",
    "    #print(words)\n",
    "    x.append( float(words[0]) )\n",
    "    y.append( float(words[1]) )\n",
    "\n",
    "print(x)\n",
    "print()\n",
    "print(y)"
   ]
  },
  {
   "attachments": {},
   "cell_type": "markdown",
   "metadata": {},
   "source": [
    "<hr style=\"border:1px solid grey\">"
   ]
  },
  {
   "attachments": {},
   "cell_type": "markdown",
   "metadata": {},
   "source": [
    "##### Exercice 3.2 :   <hr style=\"border:1px solid grey\">\n",
    "Given a set of data $\\{x\\}_{i=1}^{N}$, the mean ($\\mu$) and the standard deviation ($\\sigma$) are given by:\n",
    "$$\\mu = \\frac{1}{N}\\sum_{i=1}^N x_i$$ and $$ \\sigma=\\sqrt{\\frac{1}{N-1}\\sum_{i=1}^N(x_i-\\mu)^2}$$\n",
    "> Load the data file `lynxhare.csv` using `pandas` and convert to a numpy array.\n",
    "\n",
    "> Generate two 1D numpy arrays called `hare` and `lynx`.\n",
    "\n",
    "> Using the python built-in function (`min`, `max`, `sum`, `len`) compute the min/max, $\\mu$ and $\\sigma$ for the hare and lynx population. \n",
    "\n",
    "> Print the results with an appropriate format and compare to `pandas` values."
   ]
  },
  {
   "attachments": {},
   "cell_type": "markdown",
   "metadata": {},
   "source": [
    "<span style=\"color:red\">**solution :**</span>"
   ]
  },
  {
   "cell_type": "code",
   "execution_count": 26,
   "metadata": {},
   "outputs": [
    {
     "name": "stdout",
     "output_type": "stream",
     "text": [
      "min(hare) =     1.800000\n",
      "max(hare) =   152.650000\n",
      "mu (hare) =    45.406484\n",
      "sig(hare) =     3.834304\n"
     ]
    }
   ],
   "source": [
    "from numpy  import sqrt\n",
    "from pandas import read_csv\n",
    "\n",
    "data = read_csv('data_examples/harelynx.csv')\n",
    "\n",
    "data_array = data.to_numpy()\n",
    "\n",
    "# row col ont été inversé\n",
    "#hare = data_array[1,:] \n",
    "#lynx = data_array[2,:] \n",
    "\n",
    "hare = data_array[:,1] \n",
    "lynx = data_array[:,2] \n",
    "\n",
    "print('min(hare) = %12.6f'%min(hare))\n",
    "print('max(hare) = %12.6f'%max(hare))\n",
    "\n",
    "mu = sum(hare/len(hare))\n",
    "# formule fausse\n",
    "#sig= sqrt(sum(hare - mu)**2)/(len(hare)-1)\n",
    "sig= sqrt(sum((hare - mu)**2))/(len(hare)-1)\n",
    "\n",
    "\n",
    "print('mu (hare) = %12.6f'%mu )\n",
    "print('sig(hare) = %12.6f'%sig)"
   ]
  },
  {
   "attachments": {},
   "cell_type": "markdown",
   "metadata": {},
   "source": [
    "<hr style=\"border:1px solid grey\">"
   ]
  },
  {
   "attachments": {},
   "cell_type": "markdown",
   "metadata": {},
   "source": [
    "## <center> Solve the exercices below </center>"
   ]
  },
  {
   "attachments": {},
   "cell_type": "markdown",
   "metadata": {},
   "source": [
    "##### Exercice 3.6 :   <hr style=\"border:1px solid grey\">\n",
    "From the data file `harelynx.csv` located in `data_examples`, plot the variation of population of hares and lynx as a function of time.\n",
    "Follow the guidelines:\n",
    "1. the data from the file `lynxlievre.csv` should be loaded using pandas.\n",
    "2. the data shall be converted to a `numpy array`.\n",
    "3. from the `numpy array` 3 columns will be extracted $(t,x,y)$.\n",
    "4. on the same graphic plot the $x(t)$ for the hare and $y(t)$ for the lynx.\n",
    "5. compute the mean of the 2 populations using the function [`mean()`](https://numpy.org/doc/stable/reference/generated/numpy.mean.html) from numpy library.\n",
    "6. plot the mean as horizontal lines using [`axhline()`](https://matplotlib.org/stable/api/_as_gen/matplotlib.pyplot.axhline.html) function from `matplotlib.pyplot`.\n",
    "6. add the legend and a title.\n",
    "7. adapts the ticks spacing along $x$ and $y$, the size of the figure, the color and type of markers.\n",
    "\n",
    "**An template is given below:**\n",
    "<img src=\"./figure_examples/figure_lynxhare_ref.png\" alt=\"Alternative text\" width=\"500\"/>"
   ]
  },
  {
   "attachments": {},
   "cell_type": "markdown",
   "metadata": {},
   "source": [
    "<hr style=\"border:1px solid grey\">"
   ]
  },
  {
   "attachments": {},
   "cell_type": "markdown",
   "metadata": {},
   "source": [
    "## <hr style=\"border:1px solid black\">  S2_TD4_python_notebook  : Finite differences <hr style=\"border:1px solid black\">"
   ]
  },
  {
   "attachments": {},
   "cell_type": "markdown",
   "metadata": {},
   "source": [
    "### Approximation des différences finies *centrées* (central finite difference)"
   ]
  },
  {
   "attachments": {},
   "cell_type": "markdown",
   "metadata": {},
   "source": [
    "Par substraction du développement de Taylor *progressif*  de l'***équation*** $\\textcolor{green}{(3)}$ au développement de Taylor *régressif* de l'***équation*** $\\textcolor{green}{(4)}$, on obtient une nouvelle définition pour la différence finie, appelée approximation des différences finies *centrée* :\n",
    "$$f'(x) = \\frac{f(x+h)-f(x-h)}{2h} - \\left(\\textcolor{blue}{\\frac{h^2}{3!}f'''(x)} + h^2\\epsilon(h)\\right)$$"
   ]
  },
  {
   "attachments": {},
   "cell_type": "markdown",
   "metadata": {},
   "source": [
    "On s'aperçoit ici que l'erreur est au deuxième ordre par rapport à $h$. Pour une valeur donnée de $h$, on s'attend à ce que cette nouvelle approximation soit plus précise que les versions *progressive* et *régressive*."
   ]
  },
  {
   "attachments": {},
   "cell_type": "markdown",
   "metadata": {},
   "source": [
    "##### Exercise 4.3 <hr style=\"border:1px solid grey\">\n",
    "\n",
    "- Pour $f(x)=3x^2-2x^3$ calculer la valeur de la dérivée numérique en  à $x_1 = 0$ et $x_2=1$ en utilisant la formule de différences finies *centrées* avec $h=0.01$."
   ]
  },
  {
   "attachments": {},
   "cell_type": "markdown",
   "metadata": {},
   "source": [
    "<span style=\"color:red\">**solution :**</span>"
   ]
  },
  {
   "cell_type": "code",
   "execution_count": 7,
   "metadata": {},
   "outputs": [
    {
     "name": "stdout",
     "output_type": "stream",
     "text": [
      "analytical derivative at x1 = 0.000000000000\n",
      "numerical  derivative at x1 = -0.000200000000 for h = 0.01\n",
      "\n",
      "analytical derivative at x2 = 0.000000000000\n",
      "numerical  derivative at x2 = -0.000200000000 for h = 0.01\n"
     ]
    }
   ],
   "source": [
    "import matplotlib.pylab as plt\n",
    "from numpy import linspace\n",
    "\n",
    "def f(x):\n",
    "    return 3*x**2 - 2*x**3\n",
    "\n",
    "def fp(x):\n",
    "    return 6*x - 6*x**2\n",
    "\n",
    "xp1 = 0.0\n",
    "xp2 = 1.0\n",
    "h   = 0.01\n",
    "\n",
    "fp1 = ( f(xp1 + h) - f(xp1 - h) ) / (2*h)\n",
    "fp2 = ( f(xp2 + h) - f(xp2 - h) ) / (2*h)\n",
    "\n",
    "fp1_ana = fp(xp1) \n",
    "fp2_ana = fp(xp2) \n",
    "\n",
    "print('analytical derivative at x1 = %.12f'%fp1_ana)\n",
    "print('numerical  derivative at x1 = %.12f'%fp1,'for h = %.2f'%h)\n",
    "print()\n",
    "print('analytical derivative at x2 = %.12f'%fp2_ana)\n",
    "print('numerical  derivative at x2 = %.12f'%fp2,'for h = %.2f'%h)\n"
   ]
  },
  {
   "attachments": {},
   "cell_type": "markdown",
   "metadata": {},
   "source": [
    "- Effectuer le calcul de la dérivée numérique de $f(x)=3x^2-2x^3$ pour $x\\in[-1,+2]$ discrétisé sur 32 points. Notons que les dérivées numériques au points $x=-1$ et $x=2$ seront écartées du calcul."
   ]
  },
  {
   "cell_type": "code",
   "execution_count": 20,
   "metadata": {},
   "outputs": [
    {
     "data": {
      "image/png": "[encoded data removed]",
      "text/plain": [
       "<Figure size 640x480 with 1 Axes>"
      ]
     },
     "metadata": {},
     "output_type": "display_data"
    }
   ],
   "source": [
    "from numpy import linspace\n",
    "import numpy as np\n",
    "\n",
    "# central finite diff. to approximate gradient\n",
    "def cfd_grad(T, X):\n",
    "    dX = np.zeros(len(X)-2)\n",
    "    for i in range(len(dX)):\n",
    "        dX[i] = (X[i+2]-X[i])/(T[i+2]-T[i])\n",
    "    return dX\n",
    "\n",
    "x = np.linspace(-1, 2, 32)\n",
    "y = f(x)\n",
    "y_prime = cfd_grad(x, y)\n",
    "\n",
    "x_reduced = x[1:-1]\n",
    "y_prime_ana = fp(x_reduced)\n",
    "\n",
    "plt.plot(x_reduced, y_prime, label=\"numérique\")\n",
    "plt.plot(x_reduced, y_prime_ana, label=\"analytique\")\n",
    "plt.legend()\n",
    "plt.show()\n",
    "#print(len(y), len(y_prime))\n"
   ]
  },
  {
   "attachments": {},
   "cell_type": "markdown",
   "metadata": {},
   "source": [
    "- Représenter graphiquement les résultats numériques et analytiques."
   ]
  },
  {
   "cell_type": "code",
   "execution_count": null,
   "metadata": {},
   "outputs": [],
   "source": []
  },
  {
   "attachments": {},
   "cell_type": "markdown",
   "metadata": {},
   "source": [
    "- Représenter graphiquement l'erreur numérique."
   ]
  },
  {
   "cell_type": "code",
   "execution_count": 22,
   "metadata": {},
   "outputs": [
    {
     "name": "stdout",
     "output_type": "stream",
     "text": [
      "0.018730489073879752\n",
      "0.01873048907388508\n",
      "0.01873048907388153\n",
      "0.01873048907388153\n",
      "0.018730489073882417\n",
      "0.01873048907388064\n",
      "0.01873048907388153\n",
      "0.018730489073881307\n",
      "0.018730489073881418\n",
      "0.018730489073881695\n",
      "0.01873048907388125\n",
      "0.018730489073880863\n",
      "0.01873048907388153\n",
      "0.01873048907388153\n",
      "0.018730489073881085\n",
      "0.018730489073881307\n",
      "0.01873048907388175\n",
      "0.018730489073879752\n",
      "0.01873048907388064\n",
      "0.018730489073881418\n",
      "0.018730489073879697\n",
      "0.018730489073881307\n",
      "0.01873048907388264\n",
      "0.01873048907387842\n",
      "0.018730489073875756\n",
      "0.018730489073887746\n",
      "0.018730489073882417\n",
      "0.018730489073877976\n",
      "0.018730489073883305\n",
      "0.018730489073877976\n"
     ]
    },
    {
     "data": {
      "text/plain": [
       "<matplotlib.collections.PathCollection at 0x13862b1c0>"
      ]
     },
     "execution_count": 22,
     "metadata": {},
     "output_type": "execute_result"
    },
    {
     "data": {
      "image/png": "[encoded data removed]",
      "text/plain": [
       "<Figure size 640x480 with 1 Axes>"
      ]
     },
     "metadata": {},
     "output_type": "display_data"
    }
   ],
   "source": [
    "error = y_prime_ana - y_prime\n",
    "for e in error:\n",
    "    print(e)\n",
    "plt.scatter(x_reduced, error)"
   ]
  },
  {
   "attachments": {},
   "cell_type": "markdown",
   "metadata": {},
   "source": [
    "<hr style=\"border:1px solid grey\">"
   ]
  },
  {
   "attachments": {},
   "cell_type": "markdown",
   "metadata": {},
   "source": [
    "petite erreur"
   ]
  },
  {
   "cell_type": "code",
   "execution_count": 27,
   "metadata": {},
   "outputs": [
    {
     "name": "stdout",
     "output_type": "stream",
     "text": [
      "1.5.3\n"
     ]
    }
   ],
   "source": [
    "import pandas as pd\n",
    "\n",
    "print(pd.__version__)"
   ]
  }
 ],
 "metadata": {
  "celltoolbar": "Diaporama",
  "colab": {
   "provenance": []
  },
  "kernelspec": {
   "display_name": "Python 3 (ipykernel)",
   "language": "python",
   "name": "python3"
  },
  "language_info": {
   "codemirror_mode": {
    "name": "ipython",
    "version": 3
   },
   "file_extension": ".py",
   "mimetype": "text/x-python",
   "name": "python",
   "nbconvert_exporter": "python",
   "pygments_lexer": "ipython3",
   "version": "3.9.7"
  }
 },
 "nbformat": 4,
 "nbformat_minor": 1
}
