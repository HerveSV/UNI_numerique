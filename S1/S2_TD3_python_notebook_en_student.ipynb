{
 "cells": [
  {
   "cell_type": "markdown",
   "metadata": {
    "slideshow": {
     "slide_type": "slide"
    }
   },
   "source": [
    "# <span style=\"color:blue\"> <center>Student / TD3 : 4TPU279U $-$ Bachelor 1st year $-$ spring 2023</center></span>\n",
    "# <center>Introduction to python programming</center>\n",
    "# <hr style=\"border:1px solid black\"><center>  Data Processing and Plot </center><hr style=\"border:1px solid black\">\n",
    "</br>\n",
    "\n",
    "<div style=\"text-align: right\"> Credits: R. Boisgard, L. Truflandier, Philippe Paillou, Julien Burgin, Sara Zein, Leo Delmarre, Simon Villain-Guillot </div>"
   ]
  },
  {
   "cell_type": "markdown",
   "metadata": {},
   "source": [
    "<hr style=\"border:1px solid grey\">"
   ]
  },
  {
   "cell_type": "markdown",
   "metadata": {},
   "source": [
    "The following topics will be cover in this notebook:\n",
    "- Process data files\n",
    "- Basics in plotting\n",
    "- Example of linear fit"
   ]
  },
  {
   "cell_type": "markdown",
   "metadata": {},
   "source": [
    "## <hr style=\"border:1px solid black\">  Process data files  <hr style=\"border:1px solid black\">"
   ]
  },
  {
   "cell_type": "markdown",
   "metadata": {},
   "source": [
    "### Using python intrinsic functions\n",
    "> Having a data file **located in the directory** `data_examples` located at the same place than the jupypter-notebook file the later can be *opened* using the built-in function [`open()`](https://docs.python.org/3/library/functions.html#open).\n",
    "> An example is given below with the data file `data_sin.csv` where the second argument in `open()` -namely `'r'`- stands for *reading* processing"
   ]
  },
  {
   "cell_type": "code",
   "execution_count": null,
   "metadata": {},
   "outputs": [],
   "source": [
    "file = open('data_examples/data_sin.txt','r')\n",
    "print(type(file))"
   ]
  },
  {
   "cell_type": "markdown",
   "metadata": {},
   "source": [
    "*Remark: to visualize the content of `data_sin.txt` in a jupyter-notebook you can clic on `File/Open` and choose the file from the current directory*"
   ]
  },
  {
   "cell_type": "markdown",
   "metadata": {},
   "source": [
    "> the content of the `data_sin.txt` can be imported using the `_io.TextIOWrapper`\n",
    "function `readlines()`. In that case data  is stored in `data` as a list of strings."
   ]
  },
  {
   "cell_type": "code",
   "execution_count": null,
   "metadata": {},
   "outputs": [],
   "source": [
    "data = file.readlines()\n",
    "print(data)"
   ]
  },
  {
   "cell_type": "markdown",
   "metadata": {},
   "source": [
    "> To get ride of the first line we can use `readline()` (without s!) first. This will extract the first line of the file. Then `readlines()` can be safely used."
   ]
  },
  {
   "cell_type": "code",
   "execution_count": null,
   "metadata": {},
   "outputs": [],
   "source": [
    "file = open('data_examples/data_sin.txt','r')\n",
    "data = file.readline()\n",
    "data = file.readlines()\n",
    "print(data)"
   ]
  },
  {
   "cell_type": "markdown",
   "metadata": {},
   "source": [
    "> The character string `\\n` indicates that the current line ends at that point and a new line starts right after it. This can be examplified by using `print()`. For instance:"
   ]
  },
  {
   "cell_type": "code",
   "execution_count": null,
   "metadata": {},
   "outputs": [],
   "source": [
    "print('Hello\\nworld!')"
   ]
  },
  {
   "cell_type": "markdown",
   "metadata": {},
   "source": [
    "> Having inspected `data_sin.txt` we know that we have 2 columns of data and that the first line refer to the type of data. Unfortunatly, `data` is a single list containing concatenated column elements."
   ]
  },
  {
   "cell_type": "markdown",
   "metadata": {},
   "source": [
    "> In order to separate column elements, we may recognize the space `' '` as separator. Note that `'.'` is also a seprator for identifying decimal numbers. To separate the columns we can re-process and operate *line by line* by looping over the rows of data and use the function `split`:"
   ]
  },
  {
   "cell_type": "code",
   "execution_count": null,
   "metadata": {},
   "outputs": [],
   "source": [
    "x = [ ] ; y = [ ]\n",
    "for line in data:\n",
    "    words = line.split(' ')\n",
    "    #print(words)"
   ]
  },
  {
   "cell_type": "markdown",
   "metadata": {},
   "source": [
    "> Since `words` is a list of 2 elements it becomes easy to store data into two **lists** $x$ and $y$ and convert strings to floats."
   ]
  },
  {
   "cell_type": "code",
   "execution_count": null,
   "metadata": {},
   "outputs": [],
   "source": [
    "x = [ ] ; y = [ ]\n",
    "for line in data:\n",
    "    words = line.split(' ')\n",
    "    x.append( float(words[0]) )\n",
    "    y.append( float(words[1]) )\n",
    "print(x)\n",
    "print()\n",
    "print(y)"
   ]
  },
  {
   "cell_type": "markdown",
   "metadata": {},
   "source": [
    "> To summarize how to process a data file containing a header and two columns of data\n",
    "separated by a space, we have:"
   ]
  },
  {
   "cell_type": "code",
   "execution_count": null,
   "metadata": {},
   "outputs": [],
   "source": [
    "file = open('data_examples/data_sin.txt','r')\n",
    "file.readline()\n",
    "\n",
    "x = [ ] ; y = [ ]\n",
    "for line in file:\n",
    "    words = line.split(' ')\n",
    "    x.append( float(words[0]) )\n",
    "    y.append( float(words[1]) )\n",
    "#print(x)\n",
    "#print()\n",
    "#print(y)"
   ]
  },
  {
   "cell_type": "markdown",
   "metadata": {},
   "source": [
    "> For later use, note that if we want to operate on $x$ and $y$ using mathematical operators we will need to convert them into `numpy array`."
   ]
  },
  {
   "cell_type": "code",
   "execution_count": null,
   "metadata": {},
   "outputs": [],
   "source": [
    "from numpy import array\n",
    "x = array(x)\n",
    "y = array(y)"
   ]
  },
  {
   "cell_type": "markdown",
   "metadata": {},
   "source": [
    "*Note that even the command `open` can also be used for writing data but is not well adapted to handle list and arrays. We should prefer to use the function `savetxt` of the numpy libray. An example is given below*\n",
    "\n",
    "For instance if you want to create a file containing 2 columns $(\\theta,f)$ with $f(\\theta)=\\cos(x)$ with $\\theta\\in[0,\\pi]$ for 32 data points, you can use:"
   ]
  },
  {
   "cell_type": "code",
   "execution_count": null,
   "metadata": {},
   "outputs": [],
   "source": [
    "from numpy import pi, cos, linspace, savetxt, column_stack, sin\n",
    "\n",
    "theta = linspace(0.0,2*pi,64)\n",
    "f     = cos(theta)\n",
    "\n",
    "savetxt('data_examples/data_cos.txt', column_stack([theta,f]), fmt='%1.4f')"
   ]
  },
  {
   "cell_type": "markdown",
   "metadata": {},
   "source": [
    "#### Note on CSV file\n",
    "A comma-separated values ([CSV](https://en.wikipedia.org/wiki/Comma-separated_valuesCSV)) file is a delimited text file that uses a comma to separate values. Each line of the file is a data record. A CSV file typically stores tabular data (numbers and text) in plain text, in which case each line will have the same number of fields. Alternative delimiter-separated files are often given a \".csv\" extension despite the use of a non-comma field separation."
   ]
  },
  {
   "cell_type": "markdown",
   "metadata": {},
   "source": [
    "##### Exercice 5.0 :  English CSV format  <hr style=\"border:1px solid grey\">\n",
    "1. Open the data file `data_sin_en.csv` located in `data_examples` directory.\n",
    "2. Extract the 2 columns and store the results into 2 arrays. Note that the separator is a coma `','`.\n",
    "3. Print the results."
   ]
  },
  {
   "cell_type": "markdown",
   "metadata": {},
   "source": [
    "<hr style=\"border:1px solid grey\">"
   ]
  },
  {
   "cell_type": "markdown",
   "metadata": {},
   "source": [
    "##### Exercice 5.1 : French CSV format  <hr style=\"border:1px solid grey\">\n",
    "1. Open the data file `data_sin_fr.csv` located in `data_examples` directory.\n",
    "2. Extract the 2 columns and store the results into 2 arrays. \n",
    "3. Print the results.\n",
    "*Note that this is a French CSV data file. In this case the separator is the semi-column character \";\". The decimal separator is the coma \",\". To store the data into array you will need to replace the\n",
    "coma by a dot. This can be done with the function `replace()`.* An example is given below:"
   ]
  },
  {
   "cell_type": "code",
   "execution_count": null,
   "metadata": {},
   "outputs": [],
   "source": [
    "test = '3,14116'\n",
    "test.replace(',','.')"
   ]
  },
  {
   "cell_type": "code",
   "execution_count": null,
   "metadata": {},
   "outputs": [],
   "source": []
  },
  {
   "cell_type": "markdown",
   "metadata": {},
   "source": [
    "<hr style=\"border:1px solid grey\">"
   ]
  },
  {
   "cell_type": "markdown",
   "metadata": {},
   "source": [
    "### Using Pandas"
   ]
  },
  {
   "cell_type": "markdown",
   "metadata": {},
   "source": [
    "[Pandas](https://en.wikipedia.org/wiki/Pandas_(software)) is a library written for Python programming language for data manipulation and analysis. In particular, it offers data structures and operations for manipulating numerical tables and time series which are refered as to *DataFrames*.\n",
    "\n",
    "[Pandas](https://pandas.pydata.org) is mainly used for data analysis and associated manipulation of tabular data in DataFrames. Pandas allows importing data from various file formats such as CSV, JSON, Parquet, SQL database tables or queries, and Microsoft Excel. The pandas library is built upon another library NumPy, which is oriented to efficiently working with arrays."
   ]
  },
  {
   "cell_type": "markdown",
   "metadata": {},
   "source": [
    "> Read and process `CSV` file"
   ]
  },
  {
   "cell_type": "code",
   "execution_count": 2,
   "metadata": {},
   "outputs": [
    {
     "name": "stdout",
     "output_type": "stream",
     "text": [
      "<class 'pandas.core.frame.DataFrame'>\n",
      "       t   Hare   Lynx\n",
      "0   1845  19.58  30.09\n",
      "1   1846  19.60  45.15\n",
      "2   1847  19.61  49.15\n",
      "3   1848  11.99  39.52\n",
      "4   1849  28.04  21.23\n",
      "..   ...    ...    ...\n",
      "86  1931  19.52   8.31\n",
      "87  1932  82.11  16.01\n",
      "88  1933  89.76  24.82\n",
      "89  1934  81.66  29.70\n",
      "90  1935  15.76  35.40\n",
      "\n",
      "[91 rows x 3 columns]\n"
     ]
    }
   ],
   "source": [
    "from pandas import read_csv\n",
    "\n",
    "data = read_csv('data_examples/harelynx.csv')\n",
    "print(type(data))\n",
    "print(data)"
   ]
  },
  {
   "cell_type": "markdown",
   "metadata": {},
   "source": [
    "> Read and process `EXCEL` file"
   ]
  },
  {
   "cell_type": "code",
   "execution_count": 3,
   "metadata": {},
   "outputs": [
    {
     "name": "stdout",
     "output_type": "stream",
     "text": [
      "<class 'pandas.core.frame.DataFrame'>\n",
      "       t   Hare   Lynx\n",
      "0   1845  19.58  30.09\n",
      "1   1846  19.60  45.15\n",
      "2   1847  19.61  49.15\n",
      "3   1848  11.99  39.52\n",
      "4   1849  28.04  21.23\n",
      "..   ...    ...    ...\n",
      "86  1931  19.52   8.31\n",
      "87  1932  82.11  16.01\n",
      "88  1933  89.76  24.82\n",
      "89  1934  81.66  29.70\n",
      "90  1935  15.76  35.40\n",
      "\n",
      "[91 rows x 3 columns]\n"
     ]
    }
   ],
   "source": [
    "from pandas import read_excel\n",
    "\n",
    "data = read_excel('data_examples/harelynx.xls')\n",
    "print(type(data))\n",
    "print(data)"
   ]
  },
  {
   "cell_type": "markdown",
   "metadata": {},
   "source": [
    "> From `panda DataFrame` to `numpy array`"
   ]
  },
  {
   "cell_type": "code",
   "execution_count": 4,
   "metadata": {},
   "outputs": [
    {
     "name": "stdout",
     "output_type": "stream",
     "text": [
      "<class 'numpy.ndarray'>\n",
      "[[1.8450e+03 1.9580e+01 3.0090e+01]\n",
      " [1.8460e+03 1.9600e+01 4.5150e+01]\n",
      " [1.8470e+03 1.9610e+01 4.9150e+01]\n",
      " [1.8480e+03 1.1990e+01 3.9520e+01]\n",
      " [1.8490e+03 2.8040e+01 2.1230e+01]\n",
      " [1.8500e+03 5.8000e+01 8.4200e+00]\n",
      " [1.8510e+03 7.4600e+01 5.5600e+00]\n",
      " [1.8520e+03 7.5090e+01 5.0800e+00]\n",
      " [1.8530e+03 8.8480e+01 1.0170e+01]\n",
      " [1.8540e+03 6.1280e+01 1.9600e+01]\n",
      " [1.8550e+03 7.4670e+01 3.2910e+01]\n",
      " [1.8560e+03 8.8060e+01 3.4380e+01]\n",
      " [1.8570e+03 6.8510e+01 2.9590e+01]\n",
      " [1.8580e+03 3.2190e+01 2.1300e+01]\n",
      " [1.8590e+03 1.2640e+01 1.3690e+01]\n",
      " [1.8600e+03 2.1490e+01 7.6500e+00]\n",
      " [1.8610e+03 3.0350e+01 4.0800e+00]\n",
      " [1.8620e+03 2.1800e+00 4.0900e+00]\n",
      " [1.8630e+03 1.5265e+02 1.4330e+01]\n",
      " [1.8640e+03 1.4836e+02 3.8220e+01]\n",
      " [1.8650e+03 8.5810e+01 6.0780e+01]\n",
      " [1.8660e+03 4.1410e+01 7.0770e+01]\n",
      " [1.8670e+03 1.4750e+01 7.2770e+01]\n",
      " [1.8680e+03 2.2800e+00 4.2680e+01]\n",
      " [1.8690e+03 5.9100e+00 1.6390e+01]\n",
      " [1.8700e+03 9.9500e+00 9.8300e+00]\n",
      " [1.8710e+03 1.0440e+01 5.8000e+00]\n",
      " [1.8720e+03 7.0640e+01 5.2600e+00]\n",
      " [1.8730e+03 5.0120e+01 1.8910e+01]\n",
      " [1.8740e+03 5.0130e+01 3.0950e+01]\n",
      " [1.8750e+03 1.0125e+02 3.1180e+01]\n",
      " [1.8760e+03 9.7120e+01 4.6340e+01]\n",
      " [1.8770e+03 8.6510e+01 4.5770e+01]\n",
      " [1.8780e+03 7.2170e+01 4.4150e+01]\n",
      " [1.8790e+03 3.8320e+01 3.6330e+01]\n",
      " [1.8800e+03 1.0110e+01 1.2030e+01]\n",
      " [1.8810e+03 7.7400e+00 1.2600e+01]\n",
      " [1.8820e+03 9.6700e+00 1.8340e+01]\n",
      " [1.8830e+03 4.3120e+01 3.5140e+01]\n",
      " [1.8840e+03 5.2210e+01 4.3770e+01]\n",
      " [1.8850e+03 1.3485e+02 6.5690e+01]\n",
      " [1.8860e+03 1.3486e+02 7.9350e+01]\n",
      " [1.8870e+03 1.0379e+02 5.1650e+01]\n",
      " [1.8880e+03 4.6100e+01 3.2590e+01]\n",
      " [1.8890e+03 1.5030e+01 2.2450e+01]\n",
      " [1.8900e+03 2.4200e+01 1.6160e+01]\n",
      " [1.8910e+03 4.1650e+01 1.4120e+01]\n",
      " [1.8920e+03 5.2340e+01 2.0380e+01]\n",
      " [1.8930e+03 5.3780e+01 3.3330e+01]\n",
      " [1.8940e+03 7.0400e+01 4.6000e+01]\n",
      " [1.8950e+03 8.5810e+01 5.1410e+01]\n",
      " [1.8960e+03 5.6690e+01 4.6430e+01]\n",
      " [1.8970e+03 1.6590e+01 3.3680e+01]\n",
      " [1.8980e+03 6.1600e+00 1.8010e+01]\n",
      " [1.8990e+03 2.3000e+00 8.8600e+00]\n",
      " [1.9000e+03 1.2820e+01 7.1300e+00]\n",
      " [1.9010e+03 4.7200e+00 9.4700e+00]\n",
      " [1.9020e+03 4.7300e+00 1.4860e+01]\n",
      " [1.9030e+03 3.7220e+01 3.1470e+01]\n",
      " [1.9040e+03 6.9720e+01 6.0570e+01]\n",
      " [1.9050e+03 5.7780e+01 6.3510e+01]\n",
      " [1.9060e+03 2.8680e+01 5.4700e+01]\n",
      " [1.9070e+03 2.3370e+01 6.3000e+00]\n",
      " [1.9080e+03 2.1540e+01 3.4100e+00]\n",
      " [1.9090e+03 2.6340e+01 5.4400e+00]\n",
      " [1.9100e+03 5.3100e+01 1.1650e+01]\n",
      " [1.9110e+03 6.8480e+01 2.0350e+01]\n",
      " [1.9120e+03 7.5580e+01 3.2880e+01]\n",
      " [1.9130e+03 5.7920e+01 3.9550e+01]\n",
      " [1.9140e+03 4.0970e+01 4.3360e+01]\n",
      " [1.9150e+03 2.4950e+01 4.0830e+01]\n",
      " [1.9160e+03 1.2590e+01 3.0360e+01]\n",
      " [1.9170e+03 4.9700e+00 1.7180e+01]\n",
      " [1.9180e+03 4.5000e+00 6.8200e+00]\n",
      " [1.9190e+03 1.1210e+01 3.1900e+00]\n",
      " [1.9200e+03 5.6600e+01 3.5200e+00]\n",
      " [1.9210e+03 6.9630e+01 9.9400e+00]\n",
      " [1.9220e+03 7.7740e+01 2.0300e+01]\n",
      " [1.9230e+03 8.0530e+01 3.1990e+01]\n",
      " [1.9240e+03 7.3380e+01 4.2360e+01]\n",
      " [1.9250e+03 3.6930e+01 4.9080e+01]\n",
      " [1.9260e+03 4.6400e+00 5.3990e+01]\n",
      " [1.9270e+03 2.5400e+00 5.2250e+01]\n",
      " [1.9280e+03 1.8000e+00 3.7700e+01]\n",
      " [1.9290e+03 2.3900e+00 1.9140e+01]\n",
      " [1.9300e+03 4.2300e+00 6.9800e+00]\n",
      " [1.9310e+03 1.9520e+01 8.3100e+00]\n",
      " [1.9320e+03 8.2110e+01 1.6010e+01]\n",
      " [1.9330e+03 8.9760e+01 2.4820e+01]\n",
      " [1.9340e+03 8.1660e+01 2.9700e+01]\n",
      " [1.9350e+03 1.5760e+01 3.5400e+01]]\n"
     ]
    }
   ],
   "source": [
    "data_numpy_array = data.to_numpy()\n",
    "print(type(data_numpy_array))\n",
    "print(data_numpy_array)"
   ]
  },
  {
   "cell_type": "markdown",
   "metadata": {},
   "source": [
    "> From `numpy array` to `pandas DataFrame`"
   ]
  },
  {
   "cell_type": "code",
   "execution_count": 5,
   "metadata": {},
   "outputs": [
    {
     "name": "stdout",
     "output_type": "stream",
     "text": [
      "         t  lievre   lynx\n",
      "0   1845.0   19.58  30.09\n",
      "1   1846.0   19.60  45.15\n",
      "2   1847.0   19.61  49.15\n",
      "3   1848.0   11.99  39.52\n",
      "4   1849.0   28.04  21.23\n",
      "..     ...     ...    ...\n",
      "86  1931.0   19.52   8.31\n",
      "87  1932.0   82.11  16.01\n",
      "88  1933.0   89.76  24.82\n",
      "89  1934.0   81.66  29.70\n",
      "90  1935.0   15.76  35.40\n",
      "\n",
      "[91 rows x 3 columns]\n"
     ]
    }
   ],
   "source": [
    "from pandas import DataFrame\n",
    "\n",
    "data_pandas = DataFrame(data_numpy_array,columns=['t', 'lievre', 'lynx'])\n",
    "print(data_pandas)"
   ]
  },
  {
   "cell_type": "markdown",
   "metadata": {},
   "source": [
    "> Print `pandas DataFrame` to `CSV` file"
   ]
  },
  {
   "cell_type": "code",
   "execution_count": 6,
   "metadata": {},
   "outputs": [],
   "source": [
    "# with the index and the header (default)\n",
    "data_pandas.to_csv('data_examples/lievrelynx_hi.csv') \n",
    "\n",
    "# without the index and the header\n",
    "data_pandas.to_csv('data_examples/lievrelynx.csv', header=False, index=False)"
   ]
  },
  {
   "cell_type": "markdown",
   "metadata": {},
   "source": [
    "> Basic statistics with `pandas`"
   ]
  },
  {
   "cell_type": "code",
   "execution_count": 7,
   "metadata": {},
   "outputs": [
    {
     "name": "stdout",
     "output_type": "stream",
     "text": [
      "count     91.000000\n",
      "mean      45.406484\n",
      "std       36.375402\n",
      "min        1.800000\n",
      "25%       12.730000\n",
      "50%       40.970000\n",
      "75%       71.405000\n",
      "max      152.650000\n",
      "Name: lievre, dtype: float64\n",
      "\n",
      "count    91.000000\n",
      "mean     28.336593\n",
      "std      18.864463\n",
      "min       3.190000\n",
      "25%      11.840000\n",
      "50%      29.590000\n",
      "75%      42.520000\n",
      "max      79.350000\n",
      "Name: lynx, dtype: float64\n"
     ]
    }
   ],
   "source": [
    "print(data_pandas['lievre'].describe())\n",
    "print()\n",
    "print(data_pandas['lynx'].describe())"
   ]
  },
  {
   "cell_type": "markdown",
   "metadata": {},
   "source": [
    "##### Exercice 5.2 :   <hr style=\"border:1px solid grey\">\n",
    "Given a set of data $\\{x\\}_{i=1}^{N}$, the mean ($\\mu$) and the standard deviation ($\\sigma$) are given by:\n",
    "$\\mu = \\frac{1}{N}\\sum_{i=1}^N x_i$ and $ \\sigma=\\sqrt{\\frac{1}{N-1}\\sum_{i=1}^N(x_i-\\mu)^2}$\n",
    "> Load the data file `lynxhare.csv` using `pandas` and convert to a numpy array.\n",
    "\n",
    "> Generate two 1D numpy arrays called `hare` and `lynx`.\n",
    "\n",
    "> Using the python built-in function (`min`, `max`, `sum`, `len`) compute the min/max, $\\mu$ and $\\sigma$ for the hare and lynx population. \n",
    "\n",
    "> Print the results with an appropriate format and compare to `pandas` values."
   ]
  },
  {
   "cell_type": "code",
   "execution_count": 30,
   "metadata": {},
   "outputs": [
    {
     "name": "stdout",
     "output_type": "stream",
     "text": [
      "Hare datacount:    91\n",
      "mean: 45.406483516483526\n",
      "std: 36.37540241468512\n",
      "min:   1.8\n",
      "max 152.65\n",
      "\n",
      "Lynx datacount:    91\n",
      "mean: 28.33659340659341\n",
      "std: 18.86446313514618\n",
      "min:  3.19\n",
      "max 79.35\n",
      "\n",
      "count     91.000000\n",
      "mean      45.406484\n",
      "std       36.375402\n",
      "min        1.800000\n",
      "25%       12.730000\n",
      "50%       40.970000\n",
      "75%       71.405000\n",
      "max      152.650000\n",
      "Name: Hare, dtype: float64\n",
      "\n",
      "count    91.000000\n",
      "mean     28.336593\n",
      "std      18.864463\n",
      "min       3.190000\n",
      "25%      11.840000\n",
      "50%      29.590000\n",
      "75%      42.520000\n",
      "max      79.350000\n",
      "Name: Lynx, dtype: float64\n"
     ]
    }
   ],
   "source": [
    "from numpy  import sqrt\n",
    "import numpy as np\n",
    "from pandas import read_csv\n",
    "import pandas\n",
    "\n",
    "\n",
    "def mean(arr):\n",
    "    sum = 0\n",
    "    for e in arr:\n",
    "        sum += e\n",
    "    return sum/len(arr)\n",
    "\n",
    "def std_dev(arr):\n",
    "    m = mean(arr)\n",
    "    N = len(arr)\n",
    "    \n",
    "    sum = 0\n",
    "    for x in arr:\n",
    "        sum += (x - m)**2\n",
    "    \n",
    "    sum /= N-1\n",
    "    \n",
    "    return np.sqrt(sum)\n",
    "\n",
    "def analyse(arr):\n",
    "    print(f\"count: {len(arr):5}\")\n",
    "    print(f\"mean: {mean(arr):5}\")\n",
    "    print(f\"std: {std_dev(arr):5}\")\n",
    "    print(f\"min: {min(arr):5}\")\n",
    "    print(f\"max {max(arr):5}\")\n",
    "    \n",
    "\n",
    "#file = open(\"data_examples/harelynx.csv\", \"r\")\n",
    "\n",
    "data = pandas.read_csv(\"data_examples/harelynx.csv\")\n",
    "data_np = data.to_numpy()\n",
    "\n",
    "hare = [ e[1] for e in data_np ]\n",
    "lynx = [ e[2] for e in data_np ]\n",
    "    \n",
    "#print(hare)\n",
    "print(\"Hare data\", end=\"\")\n",
    "analyse(hare)\n",
    "\n",
    "print()\n",
    "\n",
    "print(\"Lynx data\", end=\"\")\n",
    "analyse(lynx)\n",
    "\n",
    "print()\n",
    "\n",
    "print(data['Hare'].describe())\n",
    "print()\n",
    "print(data['Lynx'].describe())\n",
    "\n"
   ]
  },
  {
   "cell_type": "markdown",
   "metadata": {},
   "source": [
    "<hr style=\"border:1px solid grey\">"
   ]
  },
  {
   "cell_type": "markdown",
   "metadata": {},
   "source": [
    "## <hr style=\"border:1px solid black\">  Basic in plotting  <hr style=\"border:1px solid black\">\n",
    "Below some examples how to do plots with python with an increasing complexity. A huge gallery of examples can be found here [https://matplotlib.org/stable/gallery/index.html](https://matplotlib.org/stable/gallery/index.html). 1D plots can be drawn using the (sub)-library \n",
    "[`pyplot`](https://matplotlib.org/stable/tutorials/introductory/pyplot.html) from [`matplotlib`](https://matplotlib.org)\n",
    "\n",
    "> Note that the alias `plt` shall be used througout this notebook for the `pyplot`.\n",
    "respectively."
   ]
  },
  {
   "cell_type": "code",
   "execution_count": null,
   "metadata": {},
   "outputs": [],
   "source": [
    "import matplotlib.pyplot as plt"
   ]
  },
  {
   "cell_type": "markdown",
   "metadata": {},
   "source": [
    "#### Simple 1D graphics\n",
    "\n",
    "> Let's plot $y=\\sin(2\\pi t)\\exp(-t)$ for $t\\in[0,5]$ with $n=40$ grid points"
   ]
  },
  {
   "cell_type": "code",
   "execution_count": 32,
   "metadata": {},
   "outputs": [
    {
     "name": "stdout",
     "output_type": "stream",
     "text": [
      "<class 'numpy.ndarray'>\n"
     ]
    },
    {
     "data": {
      "text/plain": [
       "[<matplotlib.lines.Line2D at 0x7fed30e86550>]"
      ]
     },
     "execution_count": 32,
     "metadata": {},
     "output_type": "execute_result"
    },
    {
     "data": {
      "image/png": "[encoded data removed]",
      "text/plain": [
       "<Figure size 432x288 with 1 Axes>"
      ]
     },
     "metadata": {
      "needs_background": "light"
     },
     "output_type": "display_data"
    }
   ],
   "source": [
    "import numpy as np\n",
    "from numpy import pi, exp, cos, linspace\n",
    "import matplotlib.pyplot as plt\n",
    "\n",
    "n    =  40\n",
    "tmin =   0\n",
    "tmax =   5\n",
    "\n",
    "t = linspace(tmin,tmax,n)\n",
    "y = cos(2*pi*t)*exp(-t)\n",
    "\n",
    "print(type(y))\n",
    "\n",
    "plt.plot(t,y)"
   ]
  },
  {
   "cell_type": "markdown",
   "metadata": {},
   "source": [
    "> By default, the function [`plot()`](https://matplotlib.org/2.1.1/api/_as_gen/matplotlib.pyplot.plot.html) interpolate (straight segments) between data point and the data are not represented by markers."
   ]
  },
  {
   "cell_type": "markdown",
   "metadata": {},
   "source": [
    "> In the examples below you can choose: [`linestyle`](https://matplotlib.org/stable/gallery/lines_bars_and_markers/linestyles.html), [`markers`](https://matplotlib.org/stable/api/markers_api.html), [`color`](https://matplotlib.org/stable/tutorials/colors/colors.html) and add a `label` for each plot. The [`legend()`](https://matplotlib.org/stable/api/_as_gen/matplotlib.pyplot.legend.html) function should be called for the label to be added on the plot."
   ]
  },
  {
   "cell_type": "code",
   "execution_count": 42,
   "metadata": {},
   "outputs": [
    {
     "data": {
      "text/plain": [
       "<matplotlib.legend.Legend at 0x7fed20504e80>"
      ]
     },
     "execution_count": 42,
     "metadata": {},
     "output_type": "execute_result"
    },
    {
     "data": {
      "image/png": "[encoded data removed]",
      "text/plain": [
       "<Figure size 432x288 with 1 Axes>"
      ]
     },
     "metadata": {
      "needs_background": "light"
     },
     "output_type": "display_data"
    }
   ],
   "source": [
    "plt.plot(t, y, marker='o', linestyle='', color='orange', label='no line')\n",
    "plt.legend()"
   ]
  },
  {
   "cell_type": "code",
   "execution_count": 38,
   "metadata": {},
   "outputs": [
    {
     "data": {
      "text/plain": [
       "<matplotlib.legend.Legend at 0x7fed11b2f1f0>"
      ]
     },
     "execution_count": 38,
     "metadata": {},
     "output_type": "execute_result"
    },
    {
     "data": {
      "image/png": "[encoded data removed]",
      "text/plain": [
       "<Figure size 432x288 with 1 Axes>"
      ]
     },
     "metadata": {
      "needs_background": "light"
     },
     "output_type": "display_data"
    }
   ],
   "source": [
    "plt.plot(t, y, marker='o', linestyle='solid', color='orange', label='with line')\n",
    "plt.legend()"
   ]
  },
  {
   "cell_type": "markdown",
   "metadata": {},
   "source": [
    "> Let's play with line and marker options "
   ]
  },
  {
   "cell_type": "code",
   "execution_count": 58,
   "metadata": {},
   "outputs": [
    {
     "data": {
      "text/plain": [
       "[<matplotlib.lines.Line2D at 0x7fed31201850>]"
      ]
     },
     "execution_count": 58,
     "metadata": {},
     "output_type": "execute_result"
    },
    {
     "data": {
      "image/png": "[encoded data removed]",
      "text/plain": [
       "<Figure size 432x288 with 1 Axes>"
      ]
     },
     "metadata": {
      "needs_background": "light"
     },
     "output_type": "display_data"
    }
   ],
   "source": [
    "plt.plot(t, y, marker='p', linestyle='solid', color='red', \\\n",
    "         linewidth=1.5, ms=10.0, mew=1.0, mec='green', mfc='orange')"
   ]
  },
  {
   "cell_type": "markdown",
   "metadata": {},
   "source": [
    "##### Exercice 5.3 :  <hr style=\"border:1px solid grey\">\n",
    "Found the purpose of `linewidth`, `ms`, `mew`, `mec`and `mfc` in the example above \n",
    "\n",
    "linewidth: controls the width of the line\n",
    "\n",
    "ms: controls the size of the marker filling\n",
    "\n",
    "mew: controls the size of the marker border lines\n",
    "\n",
    "mec: controls the colour of the marker border lines\n",
    "\n",
    "mfc: controls the colour of the marker filling\n"
   ]
  },
  {
   "cell_type": "markdown",
   "metadata": {},
   "source": [
    "<hr style=\"border:1px solid grey\">"
   ]
  },
  {
   "cell_type": "markdown",
   "metadata": {},
   "source": [
    "##### Exercice 5.4 :  <hr style=\"border:1px solid grey\">\n",
    "Using the functions of **Exercice 2.1** in **TD2** plot:\n",
    "$$f(x)=4x^2\\exp(-2x)$$ \n",
    "\n",
    "$$g(x)=\\frac{x^2}{2}\\left(1-\\frac{x}{2}\\right)^2\\exp(-x)$$\n",
    "\n",
    "$$h(x)= \\frac{4x^2}{243}\\left(3 - 2x + \\frac{2}{9}x^2\\right)^2 \\exp\\left(-\\frac{2x}{3}\\right)$$\n",
    "for $x\\in[0,20]$ with $n=100$ grid points, following the rules:\n",
    "1. For both curves, there is no markers\n",
    "2. The curves must be solid-orange, -red and -purple for $f(x)$, $g(x)$ and $h(x)$, respectively.\n",
    "3. The legend must be printed."
   ]
  },
  {
   "cell_type": "code",
   "execution_count": 64,
   "metadata": {},
   "outputs": [
    {
     "data": {
      "text/plain": [
       "[<matplotlib.lines.Line2D at 0x7fed41cf0730>]"
      ]
     },
     "execution_count": 64,
     "metadata": {},
     "output_type": "execute_result"
    },
    {
     "data": {
      "image/png": "[encoded data removed]",
      "text/plain": [
       "<Figure size 432x288 with 1 Axes>"
      ]
     },
     "metadata": {
      "needs_background": "light"
     },
     "output_type": "display_data"
    }
   ],
   "source": [
    "import numpy as np\n",
    "from numpy import exp, linspace\n",
    "import matplotlib.pyplot as plt\n",
    "\n",
    "x = linspace(0, 20, 100)\n",
    "f = 4*x**2 * exp(-2*x)\n",
    "\n",
    "g = (x**2)/2 * (1 - x/2)**2 * exp(-x)\n",
    "\n",
    "h = (4*x**2)/243 * (3 - 2*x + 2/9*x**2)**2 * exp(-2*x/3)\n",
    "\n",
    "plt.plot(x, f)\n",
    "plt.plot(x, g)\n",
    "plt.plot(x, h)"
   ]
  },
  {
   "cell_type": "markdown",
   "metadata": {},
   "source": [
    "<hr style=\"border:1px solid grey\">"
   ]
  },
  {
   "cell_type": "markdown",
   "metadata": {},
   "source": [
    "> Below an example to set ranges to $x\\in[0,12]$ and $y\\in[0,0.3]$."
   ]
  },
  {
   "cell_type": "code",
   "execution_count": 66,
   "metadata": {},
   "outputs": [
    {
     "data": {
      "text/plain": [
       "(0.0, 0.3)"
      ]
     },
     "execution_count": 66,
     "metadata": {},
     "output_type": "execute_result"
    },
    {
     "data": {
      "image/png": "[encoded data removed]",
      "text/plain": [
       "<Figure size 432x288 with 1 Axes>"
      ]
     },
     "metadata": {
      "needs_background": "light"
     },
     "output_type": "display_data"
    }
   ],
   "source": [
    "import matplotlib.pylab as plt\n",
    "\n",
    "plt.plot(x,f,marker='',linestyle='solid', color='orange', linewidth=1.5, label='f(x)')\n",
    "plt.plot(x,g,marker='',linestyle='solid', color='red',    linewidth=1.5, label='g(x)')\n",
    "plt.plot(x,h,marker='',linestyle='solid', color='purple', linewidth=1.5, label='h(x)')\n",
    "\n",
    "plt.legend()\n",
    "\n",
    "plt.xlim(0,12)\n",
    "plt.ylim(0,0.3)"
   ]
  },
  {
   "cell_type": "markdown",
   "metadata": {},
   "source": [
    "> $x$- and $y$-axis labels are added using `xlabel()` and `ylabel()`. \n",
    "\n",
    "> The dollar symbols in the label stand for [$\\LaTeX$](https://en.wikibooks.org/wiki/LaTeX/Mathematics) formatting of equations.\n",
    "\n",
    "> $x$- and $y$-axis ticks can be set explicitely using `xticks()` and `yticks()` along with `arange()`\n",
    "\n",
    "> > The figure can be printed in save using the [`savefig()`](https://matplotlib.org/stable/api/_as_gen/matplotlib.pyplot.savefig.html) function."
   ]
  },
  {
   "cell_type": "code",
   "execution_count": 71,
   "metadata": {},
   "outputs": [
    {
     "data": {
      "image/png": "[encoded data removed]",
      "text/plain": [
       "<Figure size 432x288 with 1 Axes>"
      ]
     },
     "metadata": {
      "needs_background": "light"
     },
     "output_type": "display_data"
    }
   ],
   "source": [
    "import matplotlib.pylab as plt\n",
    "from numpy import arange\n",
    "\n",
    "plt.plot(x,f,marker='',linestyle='solid', color='orange', linewidth=1.5, \n",
    "         label='$f(x)=4x^2\\exp(-2x)$')\n",
    "plt.plot(x,g,marker='',linestyle='solid', color='red',    linewidth=1.5,\n",
    "         label='$g(x)=\\\\frac{x^2}{2}\\\\left(1-\\\\frac{x}{2}\\\\right)^2\\\\exp(-x)$')\n",
    "plt.plot(x,h,marker='',linestyle='solid', color='purple', linewidth=1.5,\n",
    "         label='$h(x)=\\\\frac{4x^2}{243}\\\\left(3 - 2x + \\\\frac{2}{9}x^2\\\\right)^2 \\\\exp\\\\left(-\\\\frac{2x}{3}\\\\right)$')\n",
    "plt.legend()\n",
    "\n",
    "plt.xlabel('$x$')\n",
    "plt.ylabel('$function$')\n",
    "\n",
    "# x-ticks for x in [0,20] with step 1\n",
    "plt.xticks(arange(0.0, 20, 1 ))\n",
    "\n",
    "# y-ticks for y in [0,0.3] with step 0.02\n",
    "plt.yticks(arange(0.0, 0.3, 0.05))\n",
    "\n",
    "plt.xlim(0,15)\n",
    "plt.ylim(0,0.3)\n",
    "\n",
    "plt.savefig('figure_examples/figure_test.png', dpi=300, format='png', transparent=True)"
   ]
  },
  {
   "cell_type": "markdown",
   "metadata": {},
   "source": [
    "##### Exercice 5.5 :   <hr style=\"border:1px solid grey\">"
   ]
  },
  {
   "cell_type": "markdown",
   "metadata": {},
   "source": [
    "We provide a data file `comete_C2022E3ZTF.txt` which gather observations of the C/2022 E3 (ZTF) comet from the 22th of March 2022 to the 25th of February 2023. These data are available from the [LESIA website](https://lesia.obspm.fr/comets/lib/all-obs-table.php?Code=CK22E030&y1=1908&m1=01). We want to plot the distance with respect to the sun ($r$) and to the earth ($d$) as a function of the [Julian day](https://fr.wikipedia.org/wiki/Jour_julien) ($j$). A visualisation of the trajectory is available [here](https://ssd.jpl.nasa.gov/tools/sbdb_lookup.html#/?sstr=C%2F2022%20E3&view=VOP).\n",
    "\n",
    "1. Go online and check which where are located $j$, $r$ and $d$ in the table.\n",
    "2. Check the data file located in the directory `data_examples`and identify the corresponding rows. \n",
    "3. Load the data and extract the 3 columns.\n",
    "4. On the same graph plot $r$ and $d$ as a function of $j$.\n",
    "5. Add axis labels and a legend.\n",
    "\n",
    "***Warning:*** *you may have trouble with some data which can't be converted to float. Find a way to circumvent\n",
    "the problem by using, for instance, the function `replace()` to replace the character by a float, say 0.0.*"
   ]
  },
  {
   "cell_type": "code",
   "execution_count": 3,
   "metadata": {},
   "outputs": [
    {
     "data": {
      "text/plain": [
       "<matplotlib.legend.Legend at 0x134a42fd0>"
      ]
     },
     "execution_count": 3,
     "metadata": {},
     "output_type": "execute_result"
    },
    {
     "data": {
      "image/png": "[encoded data removed]",
      "text/plain": [
       "<Figure size 640x480 with 1 Axes>"
      ]
     },
     "metadata": {},
     "output_type": "display_data"
    }
   ],
   "source": [
    "import matplotlib.pylab as plt\n",
    "import numpy as np\n",
    "import pandas\n",
    "\n",
    "data_pd = pandas.read_csv(\"data_examples/comete_C2022E3ZTF.csv\", header=None)\n",
    "data_np = data_pd.to_numpy()\n",
    "\n",
    "j = data_np[:,2]\n",
    "r = data_np[:, 4]\n",
    "d = data_np[:, 5]\n",
    "\n",
    "for i in range(len(j)):\n",
    "    try:\n",
    "        j[i] = float(j[i])\n",
    "        \n",
    "    except:\n",
    "        j[i] = None\n",
    "        \n",
    "        \n",
    "for i in range(len(r)):\n",
    "    try:\n",
    "        r[i] = float(r[i])\n",
    "        \n",
    "    except:\n",
    "        r[i] = None\n",
    "        \n",
    "for i in range(len(d)):\n",
    "    try:\n",
    "        d[i] = float(d[i])\n",
    "        \n",
    "    except:\n",
    "        d[i] = None\n",
    "\n",
    "        \n",
    "plt.plot(j, r, label=\"r(j)\")\n",
    "plt.plot(j, d, label=\"d(j)\")\n",
    "plt.legend()"
   ]
  },
  {
   "cell_type": "markdown",
   "metadata": {},
   "source": [
    "<hr style=\"border:1px solid grey\">"
   ]
  },
  {
   "cell_type": "markdown",
   "metadata": {},
   "source": [
    "##### Exercice 5.6 :   <hr style=\"border:1px solid grey\">\n",
    "From the data file `harelynx.csv` located in `data_examples`, plot the variation of population of hares and lynx as a function of time.\n",
    "Follow the guidelines:\n",
    "1. the data from the file `lynxlievre.csv` should be loaded using pandas.\n",
    "2. the data shall be converted to a `numpy array`.\n",
    "3. from the `numpy array` 3 columns will be extracted $(t,x,y)$.\n",
    "4. on the same graphic plot the $x(t)$ for the hare and $y(t)$ for the lynx.\n",
    "5. compute the mean of the 2 populations using the function [`mean()`](https://numpy.org/doc/stable/reference/generated/numpy.mean.html) from numpy library.\n",
    "6. plot the mean as horizontal lines using [`axhline()`](https://matplotlib.org/stable/api/_as_gen/matplotlib.pyplot.axhline.html) function from `matplotlib.pyplot`.\n",
    "6. add the legend and a title.\n",
    "7. adapts the ticks spacing along $x$ and $y$, the size of the figure, the color and type of markers.\n",
    "\n",
    "**An template is given below:**\n",
    "<!--<img src=\"./figure_examples/figure_lynxhare_ref.png\" alt=\"Alternative text\" width=\"500\"/>"
   ]
  },
  {
   "cell_type": "code",
   "execution_count": 111,
   "metadata": {},
   "outputs": [
    {
     "data": {
      "image/png": "[encoded data removed]",
      "text/plain": [
       "<Figure size 432x288 with 1 Axes>"
      ]
     },
     "metadata": {
      "needs_background": "light"
     },
     "output_type": "display_data"
    }
   ],
   "source": [
    "from pandas import read_csv\n",
    "from numpy  import arange, mean\n",
    "\n",
    "import numpy as np\n",
    "import matplotlib.pylab as plt\n",
    "\n",
    "data = pandas.read_csv(\"data_examples/harelynx.csv\")\n",
    "data_np = data.to_numpy()\n",
    "\n",
    "t = data_np[:, 0]\n",
    "hare = data_np[:, 1]\n",
    "lynx = data_np[:, 2]\n",
    "\n",
    "\n",
    "mean_hare = np.mean(hare)\n",
    "mean_lynx = np.mean(lynx)\n",
    "\n",
    "plt.plot(t, hare, color='red', marker='s', mfc='white', label=\"Hare pop.\")\n",
    "plt.plot(t, lynx, color='black', marker='h', mfc='white', label=\"Lynx pop.\")\n",
    "plt.axhline(mean_hare, color='red', linestyle='dotted', label=\"Hare mean\")\n",
    "plt.axhline(mean_lynx, color='black', linestyle='dotted', label=\"Lynx mean\")\n",
    "plt.legend()\n",
    "\n",
    "\n",
    "plt.savefig('figure_examples/harelynxPop.png', dpi=300, format='png', transparent=True)\n",
    "\n",
    "\n",
    "#hare = [ e[1] for e in data_np ]\n",
    "#lynx = [ e[2] for e in data_np ]\n",
    "\n"
   ]
  },
  {
   "cell_type": "markdown",
   "metadata": {},
   "source": []
  },
  {
   "cell_type": "markdown",
   "metadata": {},
   "source": [
    "## <hr style=\"border:1px solid black\">  Survival guide for practical work <hr style=\"border:1px solid black\">\n",
    "</br>\n",
    "\n",
    "Given an example, in this survival guide we will:\n",
    "\n",
    "1. Plot the data using python. Add axis labels, units, legend.\n",
    "2. Fit a linear model to the data. \n",
    "3. Superimpose this line on the plot and save the figure.\n",
    "4. Use the linear model equation"
   ]
  },
  {
   "cell_type": "markdown",
   "metadata": {},
   "source": [
    "### Example"
   ]
  },
  {
   "cell_type": "markdown",
   "metadata": {},
   "source": [
    "In water-resources engineering, the sizing of reservoirs depends on accurate estimates of\n",
    "water flow in the river that is being impounded. For some rivers, long-term historical\n",
    "records of such flow data are difficult to obtain. In contrast, meteorological data on\n",
    "precipitation are often available for many years past. Therefore, it is often useful to\n",
    "determine a relationship between flow and precipitation. This relationship can then be\n",
    "used to estimate flows for years when only precipitation measurements were made. The\n",
    "following data are available for a river: [<sup>1</sup>](#fn1)\n",
    "\n",
    "*Dans le domaine de l'ingénierie des ressources en eau, le dimensionnement des réservoirs dépend d'une estimation précise du débit de la rivière que l'on considère. Pour certains cours d'eau, il est difficile d'obtenir des enregistrements historiques à long terme du débit. En revanche, les données météorologiques sur les précipitations sont souvent disponibles pour de plus longues périodes. Par conséquent, il est souvent utile de déterminer une relation entre le débit et les précipitations. Cette relation peut alors être utilisée pour estimer les débits pour les années où seules les précipitations ont été mesurées. Les données suivantes sont disponibles pour une rivière :*\n",
    "\n",
    "Precip. (cm/yr)|  88.9 | 108.5 | 104.1 | 139.7 | 127.0 | 94.0 | 116.8 | 99.1 |\n",
    "---------------|-------|-------|-------|-------|-------|------|-------|------|\n",
    "Flow (m$^3$/s) |  14.6 |  16.7 |  15.3 |  23.2 |  19.5 | 16.1 |  18.1 | 16.6 |\n",
    "\n",
    "\n",
    "\n",
    "<span id=\"fn1\"> $^1$ Example taken from *Applied Numerical Methods with MATLAB* by S. C. Chapra.</span>"
   ]
  },
  {
   "cell_type": "markdown",
   "metadata": {},
   "source": [
    "### <hr style=\"border:1px solid black\"> Load the data <hr style=\"border:1px solid black\">"
   ]
  },
  {
   "cell_type": "markdown",
   "metadata": {},
   "source": [
    "#### Create numpy array with the raw data\n",
    "\n",
    "> Here we first create list using the data which will be converted to `numpy arrays`\n",
    "\n",
    "> Warning : we used English floating-point notation !"
   ]
  },
  {
   "cell_type": "code",
   "execution_count": 11,
   "metadata": {},
   "outputs": [],
   "source": [
    "from numpy import array\n",
    "\n",
    "prec = [88.9, 108.5, 104.1, 139.7, 127.0, 94.0, 116.8, 99.1]\n",
    "flow = [14.6,  16.7,  15.3,  23.2,  19.5, 16.1,  18.1, 16.6]\n",
    "\n",
    "x = array(prec)\n",
    "y = array(flow)"
   ]
  },
  {
   "cell_type": "markdown",
   "metadata": {},
   "source": [
    "#### ... or load the data from a file using python intrinsic function"
   ]
  },
  {
   "cell_type": "code",
   "execution_count": 12,
   "metadata": {},
   "outputs": [
    {
     "name": "stdout",
     "output_type": "stream",
     "text": [
      "[88.9, 108.5, 104.1, 139.7, 127.0, 94.0, 116.8, 99.1]\n",
      "\n",
      "[14.6, 16.7, 15.3, 23.2, 19.5, 16.1, 18.1, 16.6]\n"
     ]
    }
   ],
   "source": [
    "file = open('data_examples/prec_flow.csv','r')\n",
    "file.readline()\n",
    "\n",
    "x = [ ] ; y = [ ]\n",
    "for line in file:\n",
    "    words = line.split(',')\n",
    "    x.append( float(words[0]) )\n",
    "    y.append( float(words[1]) )\n",
    "print(prec)\n",
    "print()\n",
    "print(flow)"
   ]
  },
  {
   "cell_type": "markdown",
   "metadata": {},
   "source": [
    "#### ... or load the data from a file using pandas"
   ]
  },
  {
   "cell_type": "code",
   "execution_count": 13,
   "metadata": {},
   "outputs": [
    {
     "name": "stdout",
     "output_type": "stream",
     "text": [
      "    prec  flow\n",
      "0   88.9  14.6\n",
      "1  108.5  16.7\n",
      "2  104.1  15.3\n",
      "3  139.7  23.2\n",
      "4  127.0  19.5\n",
      "5   94.0  16.1\n",
      "6  116.8  18.1\n",
      "7   99.1  16.6\n"
     ]
    }
   ],
   "source": [
    "from pandas import read_csv\n",
    "\n",
    "data_pandas = read_csv('data_examples/prec_flow.csv')\n",
    "print(data_pandas)\n",
    "#data_numpy_array = data_pandas.to_numpy()\n",
    "#x = data_numpy_array[:,0]\n",
    "#y = data_numpy_array[:,1]"
   ]
  },
  {
   "cell_type": "markdown",
   "metadata": {},
   "source": [
    "### <hr style=\"border:1px solid black\"> Plot the graphics <hr style=\"border:1px solid black\">"
   ]
  },
  {
   "cell_type": "markdown",
   "metadata": {},
   "source": [
    "#### Using Matplotlib"
   ]
  },
  {
   "cell_type": "code",
   "execution_count": 14,
   "metadata": {},
   "outputs": [
    {
     "ename": "NameError",
     "evalue": "name 'arange' is not defined",
     "output_type": "error",
     "traceback": [
      "\u001b[0;31m---------------------------------------------------------------------------\u001b[0m",
      "\u001b[0;31mNameError\u001b[0m                                 Traceback (most recent call last)",
      "Cell \u001b[0;32mIn[14], line 7\u001b[0m\n\u001b[1;32m      4\u001b[0m plt\u001b[39m.\u001b[39mxlabel(\u001b[39m\"\u001b[39m\u001b[39mPrecipitation (cm/yr)\u001b[39m\u001b[39m\"\u001b[39m)\n\u001b[1;32m      5\u001b[0m plt\u001b[39m.\u001b[39mylabel(\u001b[39m\"\u001b[39m\u001b[39mFlow (m$^3$/s)\u001b[39m\u001b[39m\"\u001b[39m)\n\u001b[0;32m----> 7\u001b[0m plt\u001b[39m.\u001b[39mxticks(arange(\u001b[39mmin\u001b[39m(x)\u001b[39m+\u001b[39m\u001b[39m1.1\u001b[39m,\u001b[39mmax\u001b[39m(x)\u001b[39m+\u001b[39m\u001b[39m1\u001b[39m,\u001b[39m5\u001b[39m))\n\u001b[1;32m      8\u001b[0m plt\u001b[39m.\u001b[39myticks(arange(\u001b[39mmin\u001b[39m(y)\u001b[39m+\u001b[39m\u001b[39m0.4\u001b[39m,\u001b[39mmax\u001b[39m(y),\u001b[39m1\u001b[39m))\n\u001b[1;32m      9\u001b[0m plt\u001b[39m.\u001b[39mtitle(\u001b[39m'\u001b[39m\u001b[39mWater flow as a function of precipitation\u001b[39m\u001b[39m'\u001b[39m)\n",
      "\u001b[0;31mNameError\u001b[0m: name 'arange' is not defined"
     ]
    },
    {
     "data": {
      "image/png": "[encoded data removed]",
      "text/plain": [
       "<Figure size 640x480 with 1 Axes>"
      ]
     },
     "metadata": {},
     "output_type": "display_data"
    }
   ],
   "source": [
    "import matplotlib.pylab as plt\n",
    "\n",
    "plt.plot(x,y,marker='o',color='black', linestyle='')\n",
    "plt.xlabel(\"Precipitation (cm/yr)\")\n",
    "plt.ylabel(\"Flow (m$^3$/s)\")\n",
    "\n",
    "plt.xticks(arange(min(x)+1.1,max(x)+1,5))\n",
    "plt.yticks(arange(min(y)+0.4,max(y),1))\n",
    "plt.title('Water flow as a function of precipitation')\n",
    "\n",
    "#plt.xlim()\n",
    "#plt.ylim()"
   ]
  },
  {
   "cell_type": "markdown",
   "metadata": {},
   "source": [
    "#### Using Pandas"
   ]
  },
  {
   "cell_type": "markdown",
   "metadata": {},
   "source": [
    "> Pandas can be used to performed plot with the function [`DataFrame.plot`](https://pandas.pydata.org/docs/reference/api/pandas.DataFrame.plot.html)"
   ]
  },
  {
   "cell_type": "code",
   "execution_count": 15,
   "metadata": {},
   "outputs": [
    {
     "data": {
      "text/plain": [
       "<Axes: xlabel='prec', ylabel='flow'>"
      ]
     },
     "execution_count": 15,
     "metadata": {},
     "output_type": "execute_result"
    },
    {
     "data": {
      "image/png": "[encoded data removed]",
      "text/plain": [
       "<Figure size 640x480 with 1 Axes>"
      ]
     },
     "metadata": {},
     "output_type": "display_data"
    }
   ],
   "source": [
    "data_pandas.plot(x='prec',y='flow',kind='scatter',color='black')"
   ]
  },
  {
   "cell_type": "markdown",
   "metadata": {},
   "source": [
    "### <hr style=\"border:1px solid black\"> Perform a linear fit <hr style=\"border:1px solid black\">\n",
    "\n",
    "> The fit is performed using `curve_fit` from the library `scipy.optimize`\n",
    "\n",
    "> Given a the data points $\\{x_i,y_i\\}^N_{i=1}$, the standard error $\\{\\sigma_i\\}^N_{i=1}$ on $\\{y_i\\}^N_{i=1}$ and the model function $f_\\textrm{model}(x;a_0,a_1,...a_m)$ where $\\{a_k\\}_{k=1}^m$ are the coefficient to optimized. Given $\\chi^2$:\n",
    "$$\\chi^2=\\sum_{i=1}^{N}\\frac{\\left[y_i-f_\\textrm{model}\\left(x_i;a_0,a_1,...a_m\\right)\\right]^2}{\\sigma^2_i}$$\n",
    "`curve_fit`perform the $\\chi^2$ minimization with respect to these coefficients."
   ]
  },
  {
   "cell_type": "markdown",
   "metadata": {},
   "source": [
    "First we define the model function ; in this case a linear function: $f(x)=a_0 +a_1x$"
   ]
  },
  {
   "cell_type": "code",
   "execution_count": 16,
   "metadata": {},
   "outputs": [],
   "source": [
    "def fmodel(x,a0,a1):\n",
    "    return a0 + a1*x"
   ]
  },
  {
   "cell_type": "markdown",
   "metadata": {},
   "source": [
    "Then we call the function `curve_fit` \n",
    "\n",
    "> with inputs $(f_\\textrm{model},x,y,\\sigma)$. \n",
    "\n",
    "> In output we have the optimal values for the coefficients (`popt`) and the (co)variance (`pcov`) of the coefficient estimates."
   ]
  },
  {
   "cell_type": "code",
   "execution_count": 17,
   "metadata": {},
   "outputs": [
    {
     "name": "stdout",
     "output_type": "stream",
     "text": [
      "a0 = 0.8428 +/- 2.3688\n",
      "a1 = 0.1519 +/- 0.0214\n"
     ]
    }
   ],
   "source": [
    "from scipy.optimize import curve_fit\n",
    "from numpy import ones, sqrt\n",
    "\n",
    "# standard error is set to 1 in this example\n",
    "sig = ones((len(x)))\n",
    "\n",
    "# call curve_fit to obtain the optimized coefficients and covariance\n",
    "popt, pcov = curve_fit(f=fmodel, xdata=x, ydata=y, sigma=sig)\n",
    "\n",
    "# extract optimized coefficients\n",
    "[a0, a1] = popt\n",
    "\n",
    "# extract standard deviation errors\n",
    "sa0 = sqrt(pcov[0,0])\n",
    "sa1 = sqrt(pcov[1,1])\n",
    "\n",
    "print('a0 = %.4f +/- %.4f'%(a0,sa0))\n",
    "print('a1 = %.4f +/- %.4f'%(a1,sa1))"
   ]
  },
  {
   "cell_type": "markdown",
   "metadata": {},
   "source": [
    "### <hr style=\"border:1px solid black\"> Plot the linear model <hr style=\"border:1px solid black\">"
   ]
  },
  {
   "cell_type": "markdown",
   "metadata": {},
   "source": [
    "Given $x_\\textrm{model}\\in[\\min(x),\\max(x)]$ with $N=128$ compute $y_\\textrm{model}=f_\\textrm{model}(x_\\textrm{model};a_0,a_1)$ "
   ]
  },
  {
   "cell_type": "code",
   "execution_count": 18,
   "metadata": {},
   "outputs": [],
   "source": [
    "from numpy import linspace\n",
    "\n",
    "x_model = linspace(min(x),max(x),128)\n",
    "y_model = fmodel(x=x_model,a0=a0,a1=a1)"
   ]
  },
  {
   "cell_type": "markdown",
   "metadata": {},
   "source": [
    "Plot the experimental data and the linear model function ; save the figure"
   ]
  },
  {
   "cell_type": "code",
   "execution_count": 19,
   "metadata": {},
   "outputs": [
    {
     "ename": "NameError",
     "evalue": "name 'arange' is not defined",
     "output_type": "error",
     "traceback": [
      "\u001b[0;31m---------------------------------------------------------------------------\u001b[0m",
      "\u001b[0;31mNameError\u001b[0m                                 Traceback (most recent call last)",
      "Cell \u001b[0;32mIn[19], line 10\u001b[0m\n\u001b[1;32m      7\u001b[0m plt\u001b[39m.\u001b[39mxlabel(\u001b[39m\"\u001b[39m\u001b[39mPrecipitation (cm/yr)\u001b[39m\u001b[39m\"\u001b[39m)\n\u001b[1;32m      8\u001b[0m plt\u001b[39m.\u001b[39mylabel(\u001b[39m\"\u001b[39m\u001b[39mFlow (m$^3$/s)\u001b[39m\u001b[39m\"\u001b[39m)\n\u001b[0;32m---> 10\u001b[0m plt\u001b[39m.\u001b[39mxticks(arange(\u001b[39mmin\u001b[39m(x)\u001b[39m+\u001b[39m\u001b[39m1.1\u001b[39m,\u001b[39mmax\u001b[39m(x)\u001b[39m+\u001b[39m\u001b[39m1\u001b[39m,\u001b[39m5\u001b[39m))\n\u001b[1;32m     11\u001b[0m plt\u001b[39m.\u001b[39myticks(arange(\u001b[39mmin\u001b[39m(y)\u001b[39m+\u001b[39m\u001b[39m0.4\u001b[39m,\u001b[39mmax\u001b[39m(y),\u001b[39m1\u001b[39m))\n\u001b[1;32m     13\u001b[0m plt\u001b[39m.\u001b[39mlegend()\n",
      "\u001b[0;31mNameError\u001b[0m: name 'arange' is not defined"
     ]
    },
    {
     "data": {
      "image/png": "[encoded data removed]",
      "text/plain": [
       "<Figure size 640x480 with 1 Axes>"
      ]
     },
     "metadata": {},
     "output_type": "display_data"
    }
   ],
   "source": [
    "import matplotlib.pylab as plt\n",
    "\n",
    "plt.plot(x,      y,       marker='o', color='black', linestyle='', label='exp. data')\n",
    "plt.plot(x_model,y_model, marker= '', color='blue',  linestyle='-',\n",
    "         label='linear regression with $f(x)= %.3f + %.3f x$'%(a0,a1))\n",
    "\n",
    "plt.xlabel(\"Precipitation (cm/yr)\")\n",
    "plt.ylabel(\"Flow (m$^3$/s)\")\n",
    "\n",
    "plt.xticks(arange(min(x)+1.1,max(x)+1,5))\n",
    "plt.yticks(arange(min(y)+0.4,max(y),1))\n",
    "\n",
    "plt.legend()\n",
    "plt.title('Water flow as a function of precipitation')\n",
    "\n",
    "plt.savefig('figure_examples/figure_prec_flow.png', dpi=300, format='png', transparent=True)"
   ]
  },
  {
   "cell_type": "markdown",
   "metadata": {},
   "source": [
    "### <hr style=\"border:1px solid black\"> Use the linear model <hr style=\"border:1px solid black\">\n",
    "\n",
    "Evaluate the annual water flow if the precipitation is 120 cm/year."
   ]
  },
  {
   "cell_type": "code",
   "execution_count": 20,
   "metadata": {},
   "outputs": [
    {
     "name": "stdout",
     "output_type": "stream",
     "text": [
      "flow = 120.0000 m^3/s for prec. = 19.0673\n"
     ]
    }
   ],
   "source": [
    "prec = 120\n",
    "flow = fmodel(x=prec,a0=a0,a1=a1)\n",
    "print('flow = %.4f m^3/s for prec. = %.4f'%(prec,flow))"
   ]
  }
 ],
 "metadata": {
  "celltoolbar": "Diaporama",
  "kernelspec": {
   "display_name": "Python 3 (ipykernel)",
   "language": "python",
   "name": "python3"
  },
  "language_info": {
   "codemirror_mode": {
    "name": "ipython",
    "version": 3
   },
   "file_extension": ".py",
   "mimetype": "text/x-python",
   "name": "python",
   "nbconvert_exporter": "python",
   "pygments_lexer": "ipython3",
   "version": "3.9.7"
  },
  "vscode": {
   "interpreter": {
    "hash": "b9b0ef206b68f5ef31273938b01ece37374437004aa1c0e7d5de15ce0fdb5b73"
   }
  }
 },
 "nbformat": 4,
 "nbformat_minor": 4
}
