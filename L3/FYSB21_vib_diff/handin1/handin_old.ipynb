{
 "cells": [
  {
   "cell_type": "markdown",
   "metadata": {},
   "source": [
    "iii) The uncertainty relation states:\n",
    "$$\\sigma_t \\sigma_{\\omega} \\ge \\frac{1}{2}$$\n",
    "\n",
    "If we interpret $|s(t)|^2$ and $|s(ω)|^2$ as probability distributions, then $\\sigma_t$ could roughly be interpreted as the period $T$ of the signal, and $\\sigma_{\\omega}$ as the spectral dispersion of the signal (FWHM of Fourier Transform) - this isn't really rigourous, but I believe it should be close enough."
   ]
  }
 ],
 "metadata": {
  "language_info": {
   "name": "python"
  }
 },
 "nbformat": 4,
 "nbformat_minor": 2
}
