{
 "cells": [
  {
   "cell_type": "code",
   "execution_count": 4,
   "metadata": {},
   "outputs": [],
   "source": [
    "import numpy as np\n",
    "import matplotlib.pyplot as plt\n",
    "import pandas as pd"
   ]
  },
  {
   "cell_type": "markdown",
   "metadata": {},
   "source": [
    "### Observations préliminaires\n"
   ]
  },
  {
   "cell_type": "code",
   "execution_count": null,
   "metadata": {},
   "outputs": [],
   "source": []
  },
  {
   "cell_type": "markdown",
   "metadata": {},
   "source": [
    "### Atténuation"
   ]
  },
  {
   "cell_type": "code",
   "execution_count": 46,
   "metadata": {},
   "outputs": [
    {
     "name": "stdout",
     "output_type": "stream",
     "text": [
      "Attenuation coefficient : -0.000705 ± 0.000143 m/s\n"
     ]
    }
   ],
   "source": [
    "# means are pre-calculated by oscilloscope through the AVERAGE option in AQUISITION\n",
    "# std is calculated with the formula given in the electronics handbook\n",
    "\n",
    "L = 50 # length of coaxial cable (m)\n",
    "\n",
    "Vi_0_mean = 1.95\n",
    "Vi_L_mean = 2.02\n",
    "\n",
    "Vi_0_std = 0.01\n",
    "Vi_L_std = 0.01\n",
    "\n",
    "alpha_mean = np.log(Vi_0_mean/Vi_L_mean)/L#np.log(Vi_0_mean/Vi_L_mean) - L \n",
    "\n",
    "alpha_std = np.sqrt((Vi_0_std/Vi_0_mean)**2 + (Vi_L_std/Vi_L_mean)**2)/L\n",
    "\n",
    "\n",
    "print(f\"Attenuation coefficient : {alpha_mean:.3} ± {alpha_std:.3} m/s\")"
   ]
  },
  {
   "cell_type": "markdown",
   "metadata": {},
   "source": [
    "### Célérité"
   ]
  },
  {
   "cell_type": "code",
   "execution_count": 23,
   "metadata": {},
   "outputs": [
    {
     "name": "stdout",
     "output_type": "stream",
     "text": [
      "Wave speed : 1.9763e+08 ± 3.9057e+05 m/s\n"
     ]
    }
   ],
   "source": [
    "L = 50 # length of coaxial cable (m)\n",
    "\n",
    "#t1 = np.array([0]) # times wave is send from GBF (s)\n",
    "#t2 = np.array([0]) # times wave arrives at x=L length (s)\n",
    "\n",
    "#tau_exp = t2 - t1\n",
    "\n",
    "#tau_mean = np.mean(tau_exp)\n",
    "#tau_std = np.std(tau_exp)\n",
    "tau_mean = 253e-9\n",
    "tau_std = 0.5e-9\n",
    "\n",
    "c_mean = L/tau_mean\n",
    "c_std = (c_mean/tau_mean) * tau_std\n",
    "\n",
    "print(f\"Wave speed : {c_mean:.5} ± {c_std:.5} m/s\")"
   ]
  },
  {
   "cell_type": "markdown",
   "metadata": {},
   "source": [
    "### Effet de l’impédance terminale"
   ]
  },
  {
   "cell_type": "code",
   "execution_count": 42,
   "metadata": {},
   "outputs": [
    {
     "name": "stdout",
     "output_type": "stream",
     "text": [
      "     Z  Vi(0)_mean  Vr(0)_mean\n",
      "0   69        1.91       0.954\n",
      "1  500        1.91       0.726\n",
      "2  250        1.91       0.726\n",
      "3   50        1.91       0.528\n",
      "4    0        1.91       0.484\n",
      "[[6.90e+01 5.00e+02 2.50e+02 5.00e+01 0.00e+00]\n",
      " [1.91e+00 1.91e+00 1.91e+00 1.91e+00 1.91e+00]\n",
      " [9.54e-01 7.26e-01 7.26e-01 5.28e-01 4.84e-01]]\n",
      "[1.01593071 0.77312966 0.77312966 0.56227612 0.51541977]\n"
     ]
    },
    {
     "data": {
      "image/png": "[encoded data removed]",
      "text/plain": [
       "<Figure size 640x480 with 1 Axes>"
      ]
     },
     "metadata": {},
     "output_type": "display_data"
    }
   ],
   "source": [
    "L = 50 # length of coaxial cable (m)\n",
    "\n",
    "alpha_correcte = 7.1e-3\n",
    "alpha_correcte_std = 6e-3\n",
    "\n",
    "data = pd.read_csv(\"Z_data.csv\")\n",
    "print(data)\n",
    "\n",
    "np_data = data.to_numpy().transpose()\n",
    "print(np_data)\n",
    "\n",
    "Z_list = np_data[0]\n",
    "Vi_mean_list = np_data[1]\n",
    "#Vi_std_list = np_data[2]\n",
    "Vr_mean_list = np_data[2]\n",
    "#Vr_std_list = np_data[4]\n",
    "\n",
    "# skip first element, which should be horizontal asymptote\n",
    "#r_mean_list = np.zeros(len(Z_list)-1)\n",
    "#r_std_list = np.zeros(len(Z_list)-1)\n",
    "\n",
    "\n",
    "\n",
    "\n",
    "r_mean_list = Vr_mean_list/Vi_mean_list * np.exp(2*alpha_correcte*L)\n",
    "\n",
    "V_std = 0.022\n",
    "r_std_list = np.sqrt((V_std/Vi_mean_list)**2, (V_std/Vr_mean_list)**2)\n",
    "#for i in range(len(r_mean_list)):\n",
    "#    index = i+1\n",
    "#\n",
    "#    r_mean_list = Vr_mean_list[index]/Vi_mean_list[index] * np.exp(2*alpha_mean*L)\n",
    "\n",
    "print(r_mean_list)\n",
    "\n",
    "plt.errorbar(Z_list[1:], r_mean_list[1:], label=\"$r=f(Z)$\", yerr=r_std_list[1:], fmt=\"o\")\n",
    "#plt.ylim(-0.005, 0.005)\n",
    "#plt.title(\"\")\n",
    "plt.axhline(r_mean_list[0], linestyle=\"dashed\", label=r\"asymptote pour $Z\\to\\infty$ (circuit ouvert)\", color=\"orange\")\n",
    "\n",
    "plt.xlabel(\"Z (Ω)\")\n",
    "plt.ylabel(\"r (sans dimensions)\")\n",
    "\n",
    "plt.title(\"Coefficient de réfléxion $r$ tracé en fonction de $Z$\")\n",
    "\n",
    "plt.legend()\n",
    "plt.savefig(\"plot.png\", dpi=300)\n",
    "plt.show()\n",
    "\n",
    "\n",
    "\n"
   ]
  },
  {
   "cell_type": "markdown",
   "metadata": {},
   "source": []
  }
 ],
 "metadata": {
  "kernelspec": {
   "display_name": "base",
   "language": "python",
   "name": "python3"
  },
  "language_info": {
   "codemirror_mode": {
    "name": "ipython",
    "version": 3
   },
   "file_extension": ".py",
   "mimetype": "text/x-python",
   "name": "python",
   "nbconvert_exporter": "python",
   "pygments_lexer": "ipython3",
   "version": "3.9.7"
  }
 },
 "nbformat": 4,
 "nbformat_minor": 2
}
