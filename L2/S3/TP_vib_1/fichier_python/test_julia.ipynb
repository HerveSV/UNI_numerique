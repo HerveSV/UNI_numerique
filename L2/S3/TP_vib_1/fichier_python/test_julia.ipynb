{
 "cells": [
  {
   "cell_type": "code",
   "execution_count": 32,
   "metadata": {},
   "outputs": [],
   "source": [
    "using Measurements\n",
    "import Statistics"
   ]
  },
  {
   "cell_type": "code",
   "execution_count": 57,
   "metadata": {},
   "outputs": [
    {
     "name": "stdout",
     "output_type": "stream",
     "text": [
      "ρ = 8300.0 ± 820.0\n",
      "ma = 0.4 ± 0.069\n",
      "mt = 0.242 ± 0.065\n"
     ]
    }
   ],
   "source": [
    "l = measurement(0.58, 0.001) # 0.66-(R+n*h/2)  # l = 58 cm\n",
    "d = measurement(0.008, 0.001)\n",
    "\n",
    "radius = measurement(0.025, 0.001) # r = 2.5 cm\n",
    "h = measurement(0.017, 0.001)  \n",
    "\n",
    "R = measurement(0.032, 0.002)   # R = 3.2 cm\n",
    "e = measurement(0.015, 0.001)\n",
    "\n",
    "mc = measurement(0.277, 0.001)\n",
    "\n",
    "rho = mc / (pi*radius^2 * h)\n",
    "println(\"ρ = $(rho)\")\n",
    "\n",
    "ma = pi*R^2 * e * rho\n",
    "println(\"ma = $(ma)\")\n",
    "\n",
    "mt = pi*(d/2)^2 * l * rho\n",
    "println(\"mt = $(mt)\")"
   ]
  },
  {
   "cell_type": "code",
   "execution_count": 58,
   "metadata": {},
   "outputs": [
    {
     "name": "stdout",
     "output_type": "stream",
     "text": [
      "Measurement{Float64}[1.502 ± 0.037, 1.547 ± 0.032, 1.572 ± 0.029, 1.591 ± 0.029]\n",
      "Measurement{Float64}[1.496 ± 0.037, 1.541 ± 0.032, 1.565 ± 0.029, 1.584 ± 0.029]\n",
      "6.283185307179586\n"
     ]
    }
   ],
   "source": [
    "g = 9.81\n",
    "\n",
    "#=\n",
    "R = measurement(0.032, 0.002)   # R = 3.2 cm\n",
    "mc = measurement(0.277, 0.001)\n",
    "radius = measurement(0.025, 0.001) # r = 2.5 cm\n",
    "h = measurement(0.017, 0.001)      # h = 1.7 cm\n",
    "mt = measurement(0.24, 0.11) #0.20\n",
    "ma = measurement(0.4, 0.12) #0.565\n",
    "\n",
    "l = measurement(0.58, 0.001) # 0.66-(R+n*h/2)  # l = 58 cm\n",
    "=#\n",
    "\n",
    "Ts = [measurement(1.50201875, 0.03694239), measurement(1.54711032, 0.03222333), measurement(1.57200389, 0.02920251), measurement(1.59082544, 0.02941368)]\n",
    "#[1.50201875 1.54711032 1.57200389 1.59082544] ± [0.03694239 0.03222333 0.02920251 0.02941368]\n",
    "\n",
    "theta0 = deg2rad(15)\n",
    "T0s = Ts ./ (1 + theta0^2/16)\n",
    "\n",
    "\n",
    "println(Ts)\n",
    "println(T0s)\n",
    "println(pi*2)"
   ]
  },
  {
   "cell_type": "code",
   "execution_count": 59,
   "metadata": {},
   "outputs": [
    {
     "name": "stdout",
     "output_type": "stream",
     "text": [
      "Measurement{Float64}[0.35 ± 0.17, 0.35 ± 0.2, 0.32 ± 0.23, 0.24 ± 0.27]\n",
      "0.32 ± 0.11\n"
     ]
    }
   ],
   "source": [
    "n_const = 4\n",
    "n = [1, 2, 3, 4]\n",
    "A = (R+l .+ n_const.*(h/2)).^2 .+ 0.25.*(radius^2 .+ (n_const.*h).^2 ./ 3)\n",
    "B = 1/12*l^2 + (R+l/2)^2\n",
    "C = 1/2*R^2\n",
    "D = (R+l .+ n_const.*(h/2))\n",
    "E = R+l/2\n",
    "\n",
    "F = (T0s./(2*pi)).^2\n",
    "\n",
    "mt_exp = (-ma*C .+ n.*(mc .* (D.*g.*F .- A))) ./ (B .- E*g.*F)\n",
    "println(mt_exp)\n",
    "println(Statistics.mean(mt_exp))"
   ]
  },
  {
   "cell_type": "code",
   "execution_count": null,
   "metadata": {},
   "outputs": [],
   "source": []
  }
 ],
 "metadata": {
  "kernelspec": {
   "display_name": "Julia 1.7.2",
   "language": "julia",
   "name": "julia-1.7"
  },
  "language_info": {
   "file_extension": ".jl",
   "mimetype": "application/julia",
   "name": "julia",
   "version": "1.7.2"
  },
  "orig_nbformat": 4
 },
 "nbformat": 4,
 "nbformat_minor": 2
}
