{
 "cells": [
  {
   "cell_type": "code",
   "execution_count": 2,
   "metadata": {},
   "outputs": [],
   "source": [
    "import numpy as np\n",
    "import matplotlib.pyplot as plt"
   ]
  },
  {
   "cell_type": "markdown",
   "metadata": {},
   "source": [
    "**logD25**\tis the logarithm of the major axis a expressed in tenths of arc minutes\n",
    "\n",
    "**logR25**\tis the logarithm of the ratio a/b where a and b are the major and minor axis\n",
    "\n",
    "**BT** Blue band apparent magnitudes\n",
    "\n",
    "**VHelio** Recession velocities"
   ]
  },
  {
   "cell_type": "markdown",
   "metadata": {},
   "source": [
    "We assume that the galaxy cluster is roughly spherical - so spherical distribution of mass\n",
    "\n",
    "We take our galaxies to be circular - we will use this assumption to calculate the inclination $i$\n",
    "\n",
    "\n",
    "$$\\cos(i) = \\frac{\\text{short axis}}{\\text{long axis}}$$\n",
    "\n",
    "We are given inclination data through the form:\n",
    "\n",
    "$$\\text{logR25} = \\log_{10}(b/a)$$\n",
    "\n",
    "$b$ and $a$ being the minor and major axis of the observed ellipse."
   ]
  },
  {
   "cell_type": "markdown",
   "metadata": {},
   "source": [
    "We assume that the galaxies move in circular motion around the centre of the cluster, and that their orbital plane corresponds to the plane of inclination of the galaxy (with resp. to us)\n",
    "\n",
    "$$\\implies v = \\frac{v_{measure}}{\\sin(i)}$$\n",
    "\n",
    "$v$ being the tangential velocity of the galaxy (no radial velocity in circular motion)"
   ]
  },
  {
   "cell_type": "markdown",
   "metadata": {},
   "source": [
    "So we have $v$, how to find velocity dispersion $\\sigma_r^2$"
   ]
  },
  {
   "cell_type": "markdown",
   "metadata": {},
   "source": []
  },
  {
   "cell_type": "markdown",
   "metadata": {},
   "source": [
    "Apparently we're supposed to use the recession velocity to compute the standard deviation - that is indeed what we should do. Recession velocity is the only velocity component we can calculate"
   ]
  },
  {
   "cell_type": "code",
   "execution_count": null,
   "metadata": {},
   "outputs": [],
   "source": []
  }
 ],
 "metadata": {
  "kernelspec": {
   "display_name": "base",
   "language": "python",
   "name": "python3"
  },
  "language_info": {
   "codemirror_mode": {
    "name": "ipython",
    "version": 3
   },
   "file_extension": ".py",
   "mimetype": "text/x-python",
   "name": "python",
   "nbconvert_exporter": "python",
   "pygments_lexer": "ipython3",
   "version": "3.9.7"
  }
 },
 "nbformat": 4,
 "nbformat_minor": 2
}
